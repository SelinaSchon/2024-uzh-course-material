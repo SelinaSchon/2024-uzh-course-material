{
 "cells": [
  {
   "cell_type": "code",
   "execution_count": 1,
   "metadata": {},
   "outputs": [],
   "source": [
    "import requests\n",
    "import bs4\n",
    "import pandas as pd\n",
    "import time"
   ]
  },
  {
   "cell_type": "code",
   "execution_count": 2,
   "metadata": {},
   "outputs": [],
   "source": [
    "def get_pagination_links(url):\n",
    "    \"\"\"Download a list of links from a Uni St. Gallen 'people' page\n",
    "\n",
    "    Args:\n",
    "      - url: The link to the page 'people' page\n",
    "\n",
    "    Returns:\n",
    "      A list of URLs for each page\n",
    "    \"\"\"\n",
    "    \n",
    "    response = requests.get(url)\n",
    "    response.raise_for_status()\n",
    "\n",
    "    soup = bs4.BeautifulSoup(response.content)\n",
    "    pagination_div = soup.find(\"div\", class_=\"g-pagination\")\n",
    "\n",
    "    link_tags = pagination_div.find_all(\"a\")\n",
    "    links = []\n",
    "    for tag in link_tags:\n",
    "        if tag[\"href\"] not in links:\n",
    "            links.append(\"https://www.unisg.ch\" + tag[\"href\"])\n",
    "\n",
    "    return links"
   ]
  },
  {
   "cell_type": "code",
   "execution_count": 3,
   "metadata": {},
   "outputs": [],
   "source": [
    "def get_people_info(page_url):\n",
    "    \"\"\"Opens a 'persons' page and scrapes some data from it\n",
    "\n",
    "    Args:\n",
    "      - page_url: The link to the page 'people' page\n",
    "    \n",
    "    Returns:\n",
    "      A list of dictionaries containing the downloaded data\n",
    "\n",
    "    \"\"\"\n",
    "\n",
    "    response = requests.get(page_url)\n",
    "    response.raise_for_status()\n",
    "\n",
    "    soup = bs4.BeautifulSoup(response.content)\n",
    "    people_div = soup.find(\"div\", class_=\"g-person-container\")\n",
    "\n",
    "    people_box_tags = people_div.find_all(class_=\"e-person-content\")\n",
    "\n",
    "    person_data = [extract_person_info(box_tag) for box_tag in people_box_tags]\n",
    "\n",
    "    return person_data\n",
    "\n",
    "\n",
    "def extract_person_info(tag):\n",
    "    \"\"\"Extracts useful info from a person's box on the page\n",
    "\n",
    "    Args:\n",
    "      tag: a BeautifulSoup Tag pretaining to the div for the person's box\n",
    "    \n",
    "    Returns:\n",
    "      A dictionary containing some of the person's data\n",
    "    \"\"\"\n",
    "\n",
    "    name = tag.find(\"h3\").text\n",
    "    title = tag.find(\"span\", class_=\"e-person-academic\").text\n",
    "    role = tag.find(\"div\", class_=\"e-person-role\").text.strip()\n",
    "    link = tag.find(\"div\", class_=\"e-person-title\").find(\"a\")[\"href\"]\n",
    "\n",
    "    data = {\n",
    "        \"name\": name,\n",
    "        \"title\": title,\n",
    "        \"role\": role,\n",
    "        \"link\": link\n",
    "    }\n",
    "\n",
    "    return data"
   ]
  },
  {
   "cell_type": "code",
   "execution_count": 4,
   "metadata": {},
   "outputs": [],
   "source": [
    "def scrape_person_data(url, wait_time=1):\n",
    "    \"\"\"Scrape everyones' data (all pages) from a Uni St. Gallen 'people' page\n",
    "\n",
    "    Args: \n",
    "      - url: The link to the page 'people' page\n",
    "      - wait_time: Time to wait between page downloads\n",
    "\n",
    "    Returns:\n",
    "      A pandas DataFrame containing the scraped data\n",
    "    \"\"\"\n",
    "    \n",
    "    links = get_pagination_links(url)\n",
    "    time.sleep(wait_time)\n",
    "\n",
    "    persons = []\n",
    "    for link in links:\n",
    "        persons.extend(get_people_info(link))\n",
    "        time.sleep(wait_time)\n",
    "\n",
    "    return pd.DataFrame(persons)"
   ]
  },
  {
   "cell_type": "code",
   "execution_count": 5,
   "metadata": {},
   "outputs": [],
   "source": [
    "profs = scrape_person_data(\"https://www.unisg.ch/en/universitaet/schools/management/ueber-som/dozierende/ordentliche-professuren\")"
   ]
  },
  {
   "cell_type": "code",
   "execution_count": 6,
   "metadata": {},
   "outputs": [],
   "source": [
    "associate_profs = scrape_person_data(\"https://www.unisg.ch/en/universitaet/schools/management/ueber-som/dozierende/assoziierte-professuren\")"
   ]
  },
  {
   "cell_type": "code",
   "execution_count": 7,
   "metadata": {},
   "outputs": [
    {
     "data": {
      "text/html": [
       "<div>\n",
       "<style scoped>\n",
       "    .dataframe tbody tr th:only-of-type {\n",
       "        vertical-align: middle;\n",
       "    }\n",
       "\n",
       "    .dataframe tbody tr th {\n",
       "        vertical-align: top;\n",
       "    }\n",
       "\n",
       "    .dataframe thead th {\n",
       "        text-align: right;\n",
       "    }\n",
       "</style>\n",
       "<table border=\"1\" class=\"dataframe\">\n",
       "  <thead>\n",
       "    <tr style=\"text-align: right;\">\n",
       "      <th></th>\n",
       "      <th>name</th>\n",
       "      <th>title</th>\n",
       "      <th>role</th>\n",
       "      <th>link</th>\n",
       "    </tr>\n",
       "  </thead>\n",
       "  <tbody>\n",
       "    <tr>\n",
       "      <th>0</th>\n",
       "      <td>Björn Ambos</td>\n",
       "      <td>Prof. Ph.D.</td>\n",
       "      <td>Full Professor of Strategic Management</td>\n",
       "      <td>https://www.unisg.ch/en/personenverzeichnis/61...</td>\n",
       "    </tr>\n",
       "    <tr>\n",
       "      <th>1</th>\n",
       "      <td>Andrea Back</td>\n",
       "      <td>Prof. Dr.</td>\n",
       "      <td>Full Professor of Management with special focu...</td>\n",
       "      <td>https://www.unisg.ch/en/personenverzeichnis/35...</td>\n",
       "    </tr>\n",
       "    <tr>\n",
       "      <th>2</th>\n",
       "      <td>Christian Belz</td>\n",
       "      <td>Prof. em. Dr.</td>\n",
       "      <td>Full Professor Emeritus of Management with spe...</td>\n",
       "      <td>https://www.unisg.ch/en/personenverzeichnis/59...</td>\n",
       "    </tr>\n",
       "    <tr>\n",
       "      <th>3</th>\n",
       "      <td>Thomas Berndt</td>\n",
       "      <td>Prof. Dr.</td>\n",
       "      <td>Full Professor of Accounting</td>\n",
       "      <td>https://www.unisg.ch/en/personenverzeichnis/ff...</td>\n",
       "    </tr>\n",
       "    <tr>\n",
       "      <th>4</th>\n",
       "      <td>Thomas Bieger</td>\n",
       "      <td>Prof. Dr.</td>\n",
       "      <td>Full Professor of Management with special focu...</td>\n",
       "      <td>https://www.unisg.ch/en/personenverzeichnis/79...</td>\n",
       "    </tr>\n",
       "  </tbody>\n",
       "</table>\n",
       "</div>"
      ],
      "text/plain": [
       "             name          title  \\\n",
       "0     Björn Ambos    Prof. Ph.D.   \n",
       "1     Andrea Back      Prof. Dr.   \n",
       "2  Christian Belz  Prof. em. Dr.   \n",
       "3   Thomas Berndt      Prof. Dr.   \n",
       "4   Thomas Bieger      Prof. Dr.   \n",
       "\n",
       "                                                role  \\\n",
       "0             Full Professor of Strategic Management   \n",
       "1  Full Professor of Management with special focu...   \n",
       "2  Full Professor Emeritus of Management with spe...   \n",
       "3                       Full Professor of Accounting   \n",
       "4  Full Professor of Management with special focu...   \n",
       "\n",
       "                                                link  \n",
       "0  https://www.unisg.ch/en/personenverzeichnis/61...  \n",
       "1  https://www.unisg.ch/en/personenverzeichnis/35...  \n",
       "2  https://www.unisg.ch/en/personenverzeichnis/59...  \n",
       "3  https://www.unisg.ch/en/personenverzeichnis/ff...  \n",
       "4  https://www.unisg.ch/en/personenverzeichnis/79...  "
      ]
     },
     "execution_count": 7,
     "metadata": {},
     "output_type": "execute_result"
    }
   ],
   "source": [
    "everyone = pd.concat([profs, associate_profs], ignore_index=True)\n",
    "everyone.head()"
   ]
  },
  {
   "cell_type": "code",
   "execution_count": 8,
   "metadata": {},
   "outputs": [],
   "source": [
    "everyone.to_csv(\"st_gallen_faculty.csv\")"
   ]
  }
 ],
 "metadata": {
  "kernelspec": {
   "display_name": "Python 3.10.5 ('pp4rs')",
   "language": "python",
   "name": "python3"
  },
  "language_info": {
   "codemirror_mode": {
    "name": "ipython",
    "version": 3
   },
   "file_extension": ".py",
   "mimetype": "text/x-python",
   "name": "python",
   "nbconvert_exporter": "python",
   "pygments_lexer": "ipython3",
   "version": "3.10.5"
  },
  "orig_nbformat": 4,
  "vscode": {
   "interpreter": {
    "hash": "204a59bdf7ab3655ff6dbdb363532740c60bcf276a7168fbd8477e399c47426b"
   }
  }
 },
 "nbformat": 4,
 "nbformat_minor": 2
}
