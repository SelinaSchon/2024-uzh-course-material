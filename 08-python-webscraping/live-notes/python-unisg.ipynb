{
 "cells": [
  {
   "cell_type": "code",
   "execution_count": 1,
   "metadata": {},
   "outputs": [],
   "source": [
    "import requests\n",
    "import pandas as pd"
   ]
  },
  {
   "cell_type": "code",
   "execution_count": 2,
   "metadata": {},
   "outputs": [],
   "source": [
    "url = \"https://www.unisg.ch/en/universitaet/schools/management/ueber-som/dozierende/ordentliche-professuren\"\n",
    "response = requests.get(url, timeout=1)"
   ]
  },
  {
   "cell_type": "code",
   "execution_count": 3,
   "metadata": {},
   "outputs": [
    {
     "data": {
      "text/plain": [
       "200"
      ]
     },
     "execution_count": 3,
     "metadata": {},
     "output_type": "execute_result"
    }
   ],
   "source": [
    "response.status_code"
   ]
  },
  {
   "cell_type": "code",
   "execution_count": 4,
   "metadata": {},
   "outputs": [
    {
     "data": {
      "text/plain": [
       "{'Cache-Control': 'no-cache, no-store', 'Pragma': 'no-cache', 'Transfer-Encoding': 'chunked', 'Content-Type': 'text/html; charset=utf-8', 'Content-Encoding': 'gzip', 'Expires': '-1', 'Vary': 'Accept-Encoding', 'Set-Cookie': 'website#lang=en; expires=Fri, 31-Dec-9999 23:59:59 GMT; path=/; secure, persistedCtx=lang=en; domain=.unisg.ch; expires=Sat, 01-Oct-2022 18:19:11 GMT; path=/; secure; HttpOnly, ASP.NET_SessionId=ykgpsufa2fzvisbncqiczrqd; path=/; secure; HttpOnly; SameSite=Lax', 'Content-Security-Policy': \"default-src 'self' blob: data: *.google-analytics.com *.googleapis.com *.gstatic.com *.unisg.ch; script-src 'self' 'unsafe-eval' 'unsafe-inline' blob: *.adnxs.com *.doubleclick.net *.facebook.net *.floodlight.com *.google-analytics.com *.google.com *.googleadservices.com *.googletagmanager.com *.pinterest.com *.scoop.it *.unisg.ch *.youtube.com *.ytimg.com *.zencdn.net app-wallee.com cdnjs.cloudflare.com code.jquery.com paper.li; connect-src 'self' data: *.doubleclick.net *.google-analytics.com *.unisg.ch app-wallee.com; img-src 'self' data: *.cdninstagram.com *.doubleclick.net *.euxeinos.info *.facebook.com *.google-analytics.com *.google.ch *.google.com *.googletagmanager.com *.gstatic.com *.pinterest.com *.uni-sanktgallen.ch *.unisg.ch *.yimg.com *.youtube.com *.ytimg.com worldmodel.biz yimg.com; style-src 'self' 'unsafe-inline' *.facebook.net *.google.com *.googleapis.com *.scoop.it *.unisg.ch *.zencdn.net; frame-src 'self' *.2vizcon.com *.doubleclick.net *.edoobox.com *.everviz.com *.google.com *.googletagmanager.com *.highcharts.com *.kmu-hsg.ch *.nintex.com *.languages-for-life.ch *.pinterest.com *.scoop.it *.taktwerk.ch *.unisg.ch *.youtube.com app-wallee.com datawrapper.dwcdn.net mcm-community-management.ch ourworldindata.org paper.li pos.wemlin.com verdi.unisg.ch; frame-ancestors 'self' *.facebook.com *.kmu-hsg.ch *.nintex.com *.scoop.it *.unisg.ch cloud.highcharts.com hsg2.stolzweb.ch paper.li; font-src data: *.unisg.ch *.google.ch;\", 'X-Frame-Options': 'SAMEORIGIN', 'Access-Control-Allow-Origin': '*', 'Date': 'Thu, 01 Sep 2022 18:19:11 GMT'}"
      ]
     },
     "execution_count": 4,
     "metadata": {},
     "output_type": "execute_result"
    }
   ],
   "source": [
    "response.headers"
   ]
  },
  {
   "cell_type": "code",
   "execution_count": 5,
   "metadata": {},
   "outputs": [
    {
     "data": {
      "text/plain": [
       "'\\r\\n<!DOCTYPE html>\\r\\n<!--[if IE 8]><html class=\"no-js ie ie-8\" lang=\"en\" prefix=\"og: http://ogp.me/ns#\"><![endif]-->\\r\\n<!--[if IE 9]><html class=\"no-js ie ie-9\" lang=\"en\" prefix=\"og: http://ogp.me/ns#\"><'"
      ]
     },
     "execution_count": 5,
     "metadata": {},
     "output_type": "execute_result"
    }
   ],
   "source": [
    "response.text[:200]"
   ]
  },
  {
   "cell_type": "code",
   "execution_count": 6,
   "metadata": {},
   "outputs": [],
   "source": [
    "# BeautifulSoup4\n",
    "import bs4"
   ]
  },
  {
   "cell_type": "code",
   "execution_count": 7,
   "metadata": {},
   "outputs": [
    {
     "data": {
      "text/plain": [
       "bs4.BeautifulSoup"
      ]
     },
     "execution_count": 7,
     "metadata": {},
     "output_type": "execute_result"
    }
   ],
   "source": [
    "soup = bs4.BeautifulSoup(response.text)\n",
    "type(soup)"
   ]
  },
  {
   "cell_type": "code",
   "execution_count": 8,
   "metadata": {},
   "outputs": [],
   "source": [
    "tag = soup.find(\"a\")"
   ]
  },
  {
   "cell_type": "code",
   "execution_count": 9,
   "metadata": {},
   "outputs": [
    {
     "data": {
      "text/plain": [
       "<a href=\"https://www.unisg.ch/en\"><img alt=\"Logo University of St.Gallen\" src=\"https://www.unisg.ch/-/media/93125423859d46928371a633b15cfcb1.jpg\"/></a>"
      ]
     },
     "execution_count": 9,
     "metadata": {},
     "output_type": "execute_result"
    }
   ],
   "source": [
    "tag"
   ]
  },
  {
   "cell_type": "code",
   "execution_count": 10,
   "metadata": {},
   "outputs": [
    {
     "data": {
      "text/plain": [
       "<img alt=\"Logo University of St.Gallen\" src=\"https://www.unisg.ch/-/media/93125423859d46928371a633b15cfcb1.jpg\"/>"
      ]
     },
     "execution_count": 10,
     "metadata": {},
     "output_type": "execute_result"
    }
   ],
   "source": [
    "img = tag.find(\"img\") # you can search for tags inside tags\n",
    "img"
   ]
  },
  {
   "cell_type": "code",
   "execution_count": 11,
   "metadata": {},
   "outputs": [
    {
     "data": {
      "text/plain": [
       "'https://www.unisg.ch/-/media/93125423859d46928371a633b15cfcb1.jpg'"
      ]
     },
     "execution_count": 11,
     "metadata": {},
     "output_type": "execute_result"
    }
   ],
   "source": [
    "img[\"src\"]"
   ]
  },
  {
   "cell_type": "code",
   "execution_count": 12,
   "metadata": {},
   "outputs": [],
   "source": [
    "person_container = soup.find('div', class_=\"g-person-container\")"
   ]
  },
  {
   "cell_type": "code",
   "execution_count": 13,
   "metadata": {},
   "outputs": [
    {
     "data": {
      "text/plain": [
       "bs4.element.Tag"
      ]
     },
     "execution_count": 13,
     "metadata": {},
     "output_type": "execute_result"
    }
   ],
   "source": [
    "type(person_container)"
   ]
  },
  {
   "cell_type": "code",
   "execution_count": 14,
   "metadata": {},
   "outputs": [
    {
     "data": {
      "text/plain": [
       "[<h3>Björn Ambos</h3>,\n",
       " <h3>Andrea Back</h3>,\n",
       " <h3>Christian Belz</h3>,\n",
       " <h3>Thomas Berndt</h3>,\n",
       " <h3>Thomas Bieger</h3>,\n",
       " <h3>Walter Brenner</h3>,\n",
       " <h3>Heike Bruch</h3>,\n",
       " <h3>Li Choy Chong</h3>,\n",
       " <h3>Bernadette Dilger</h3>,\n",
       " <h3>Tami Dinh</h3>]"
      ]
     },
     "execution_count": 14,
     "metadata": {},
     "output_type": "execute_result"
    }
   ],
   "source": [
    "person_container.find_all(\"h3\")"
   ]
  },
  {
   "cell_type": "code",
   "execution_count": 15,
   "metadata": {},
   "outputs": [
    {
     "data": {
      "text/plain": [
       "'Björn Ambos'"
      ]
     },
     "execution_count": 15,
     "metadata": {},
     "output_type": "execute_result"
    }
   ],
   "source": [
    "person_container.find_all(\"h3\")[0].text"
   ]
  },
  {
   "cell_type": "code",
   "execution_count": 16,
   "metadata": {},
   "outputs": [
    {
     "data": {
      "text/plain": [
       "['Björn Ambos',\n",
       " 'Andrea Back',\n",
       " 'Christian Belz',\n",
       " 'Thomas Berndt',\n",
       " 'Thomas Bieger',\n",
       " 'Walter Brenner',\n",
       " 'Heike Bruch',\n",
       " 'Li Choy Chong',\n",
       " 'Bernadette Dilger',\n",
       " 'Tami Dinh']"
      ]
     },
     "execution_count": 16,
     "metadata": {},
     "output_type": "execute_result"
    }
   ],
   "source": [
    "[i.text for i in person_container.find_all(\"h3\")]"
   ]
  },
  {
   "cell_type": "code",
   "execution_count": 17,
   "metadata": {},
   "outputs": [
    {
     "data": {
      "text/plain": [
       "['https://www.unisg.ch/en/personenverzeichnis/61db4a8f-c157-4fff-991e-019ba0163cfe',\n",
       " 'https://www.unisg.ch/en/personenverzeichnis/61db4a8f-c157-4fff-991e-019ba0163cfe',\n",
       " 'mailto:bjoern.ambos@unisg.ch',\n",
       " 'tel:+41712247610',\n",
       " 'https://www.unisg.ch/en/personenverzeichnis/3599e40c-0679-412e-974f-bc782cb84fdc',\n",
       " 'https://www.unisg.ch/en/personenverzeichnis/3599e40c-0679-412e-974f-bc782cb84fdc',\n",
       " 'mailto:andrea.back@unisg.ch',\n",
       " 'tel:+41712242545',\n",
       " 'https://www.unisg.ch/en/personenverzeichnis/59d22392-1e0e-4cbe-9e40-d76a136ddaec',\n",
       " 'https://www.unisg.ch/en/personenverzeichnis/59d22392-1e0e-4cbe-9e40-d76a136ddaec',\n",
       " 'tel:+41712242850',\n",
       " 'https://www.unisg.ch/en/personenverzeichnis/ffc3804f-4cff-4306-ac20-6ea9064003eb',\n",
       " 'https://www.unisg.ch/en/personenverzeichnis/ffc3804f-4cff-4306-ac20-6ea9064003eb',\n",
       " 'mailto:thomas.berndt@unisg.ch',\n",
       " 'tel:0712247070',\n",
       " 'https://www.unisg.ch/en/personenverzeichnis/79cdedf7-fb5b-4e85-98b4-36d909964424',\n",
       " 'https://www.unisg.ch/en/personenverzeichnis/79cdedf7-fb5b-4e85-98b4-36d909964424',\n",
       " 'mailto:thomas.bieger@unisg.ch',\n",
       " 'tel:+41712242610',\n",
       " 'https://www.unisg.ch/en/personenverzeichnis/d5534865-f852-4673-a9ef-8c99c2cf1569',\n",
       " 'https://www.unisg.ch/en/personenverzeichnis/d5534865-f852-4673-a9ef-8c99c2cf1569',\n",
       " 'mailto:walter.brenner@unisg.ch',\n",
       " 'tel:+41712242409',\n",
       " 'https://www.unisg.ch/en/personenverzeichnis/8fad0e9c-7d9c-4b75-87a5-f370c9f3b9dd',\n",
       " 'https://www.unisg.ch/en/personenverzeichnis/8fad0e9c-7d9c-4b75-87a5-f370c9f3b9dd',\n",
       " 'mailto:heike.bruch@unisg.ch',\n",
       " 'tel:+41712242371',\n",
       " 'https://www.unisg.ch/en/personenverzeichnis/a3a0f6b8-60f5-4a07-a568-b4a26487b627',\n",
       " 'https://www.unisg.ch/en/personenverzeichnis/a3a0f6b8-60f5-4a07-a568-b4a26487b627',\n",
       " 'https://www.unisg.ch/en/personenverzeichnis/0b87ab62-95a5-4932-b460-ab6fe5717210',\n",
       " 'https://www.unisg.ch/en/personenverzeichnis/0b87ab62-95a5-4932-b460-ab6fe5717210',\n",
       " 'mailto:bernadette.dilger@unisg.ch',\n",
       " 'tel:+41712242625',\n",
       " 'https://www.unisg.ch/en/personenverzeichnis/88b6abb6-d969-477e-955a-ea2a54dffcd3',\n",
       " 'https://www.unisg.ch/en/personenverzeichnis/88b6abb6-d969-477e-955a-ea2a54dffcd3',\n",
       " 'mailto:tami.dinh@unisg.ch',\n",
       " 'tel:+41712247424']"
      ]
     },
     "execution_count": 17,
     "metadata": {},
     "output_type": "execute_result"
    }
   ],
   "source": [
    "[i[\"href\"] for i in person_container.find_all(\"a\")]"
   ]
  },
  {
   "cell_type": "code",
   "execution_count": 18,
   "metadata": {},
   "outputs": [
    {
     "data": {
      "text/plain": [
       "10"
      ]
     },
     "execution_count": 18,
     "metadata": {},
     "output_type": "execute_result"
    }
   ],
   "source": [
    "person_containers = person_container.find_all(\"div\", class_=\"e-person-content\")\n",
    "len(person_containers)"
   ]
  },
  {
   "cell_type": "code",
   "execution_count": 19,
   "metadata": {},
   "outputs": [
    {
     "data": {
      "text/html": [
       "<div>\n",
       "<style scoped>\n",
       "    .dataframe tbody tr th:only-of-type {\n",
       "        vertical-align: middle;\n",
       "    }\n",
       "\n",
       "    .dataframe tbody tr th {\n",
       "        vertical-align: top;\n",
       "    }\n",
       "\n",
       "    .dataframe thead th {\n",
       "        text-align: right;\n",
       "    }\n",
       "</style>\n",
       "<table border=\"1\" class=\"dataframe\">\n",
       "  <thead>\n",
       "    <tr style=\"text-align: right;\">\n",
       "      <th></th>\n",
       "      <th>name</th>\n",
       "      <th>website</th>\n",
       "      <th>qual</th>\n",
       "    </tr>\n",
       "  </thead>\n",
       "  <tbody>\n",
       "    <tr>\n",
       "      <th>0</th>\n",
       "      <td>Björn Ambos</td>\n",
       "      <td>https://www.unisg.ch/en/personenverzeichnis/61...</td>\n",
       "      <td>Prof. Ph.D.</td>\n",
       "    </tr>\n",
       "    <tr>\n",
       "      <th>1</th>\n",
       "      <td>Andrea Back</td>\n",
       "      <td>https://www.unisg.ch/en/personenverzeichnis/35...</td>\n",
       "      <td>Prof. Dr.</td>\n",
       "    </tr>\n",
       "    <tr>\n",
       "      <th>2</th>\n",
       "      <td>Christian Belz</td>\n",
       "      <td>https://www.unisg.ch/en/personenverzeichnis/59...</td>\n",
       "      <td>Prof. em. Dr.</td>\n",
       "    </tr>\n",
       "    <tr>\n",
       "      <th>3</th>\n",
       "      <td>Thomas Berndt</td>\n",
       "      <td>https://www.unisg.ch/en/personenverzeichnis/ff...</td>\n",
       "      <td>Prof. Dr.</td>\n",
       "    </tr>\n",
       "    <tr>\n",
       "      <th>4</th>\n",
       "      <td>Thomas Bieger</td>\n",
       "      <td>https://www.unisg.ch/en/personenverzeichnis/79...</td>\n",
       "      <td>Prof. Dr.</td>\n",
       "    </tr>\n",
       "    <tr>\n",
       "      <th>5</th>\n",
       "      <td>Walter Brenner</td>\n",
       "      <td>https://www.unisg.ch/en/personenverzeichnis/d5...</td>\n",
       "      <td>Prof. Dr.</td>\n",
       "    </tr>\n",
       "    <tr>\n",
       "      <th>6</th>\n",
       "      <td>Heike Bruch</td>\n",
       "      <td>https://www.unisg.ch/en/personenverzeichnis/8f...</td>\n",
       "      <td>Prof. Dr.</td>\n",
       "    </tr>\n",
       "    <tr>\n",
       "      <th>7</th>\n",
       "      <td>Li Choy Chong</td>\n",
       "      <td>https://www.unisg.ch/en/personenverzeichnis/a3...</td>\n",
       "      <td>Prof. em. Dr.</td>\n",
       "    </tr>\n",
       "    <tr>\n",
       "      <th>8</th>\n",
       "      <td>Bernadette Dilger</td>\n",
       "      <td>https://www.unisg.ch/en/personenverzeichnis/0b...</td>\n",
       "      <td>Prof. Dr.</td>\n",
       "    </tr>\n",
       "    <tr>\n",
       "      <th>9</th>\n",
       "      <td>Tami Dinh</td>\n",
       "      <td>https://www.unisg.ch/en/personenverzeichnis/88...</td>\n",
       "      <td>Prof. Dr.</td>\n",
       "    </tr>\n",
       "  </tbody>\n",
       "</table>\n",
       "</div>"
      ],
      "text/plain": [
       "                name                                            website  \\\n",
       "0        Björn Ambos  https://www.unisg.ch/en/personenverzeichnis/61...   \n",
       "1        Andrea Back  https://www.unisg.ch/en/personenverzeichnis/35...   \n",
       "2     Christian Belz  https://www.unisg.ch/en/personenverzeichnis/59...   \n",
       "3      Thomas Berndt  https://www.unisg.ch/en/personenverzeichnis/ff...   \n",
       "4      Thomas Bieger  https://www.unisg.ch/en/personenverzeichnis/79...   \n",
       "5     Walter Brenner  https://www.unisg.ch/en/personenverzeichnis/d5...   \n",
       "6        Heike Bruch  https://www.unisg.ch/en/personenverzeichnis/8f...   \n",
       "7      Li Choy Chong  https://www.unisg.ch/en/personenverzeichnis/a3...   \n",
       "8  Bernadette Dilger  https://www.unisg.ch/en/personenverzeichnis/0b...   \n",
       "9          Tami Dinh  https://www.unisg.ch/en/personenverzeichnis/88...   \n",
       "\n",
       "            qual  \n",
       "0    Prof. Ph.D.  \n",
       "1      Prof. Dr.  \n",
       "2  Prof. em. Dr.  \n",
       "3      Prof. Dr.  \n",
       "4      Prof. Dr.  \n",
       "5      Prof. Dr.  \n",
       "6      Prof. Dr.  \n",
       "7  Prof. em. Dr.  \n",
       "8      Prof. Dr.  \n",
       "9      Prof. Dr.  "
      ]
     },
     "execution_count": 19,
     "metadata": {},
     "output_type": "execute_result"
    }
   ],
   "source": [
    "data = []\n",
    "for container in person_containers:\n",
    "    name = container.find(\"h3\").text\n",
    "    website = container.find(\"a\")[\"href\"]\n",
    "    qual = container.find(\"span\", class_=\"e-person-academic\").text\n",
    "    data.append({\n",
    "        \"name\": name,\n",
    "        \"website\": website,\n",
    "        \"qual\": qual\n",
    "    })\n",
    "\n",
    "pd.DataFrame(data)"
   ]
  }
 ],
 "metadata": {
  "kernelspec": {
   "display_name": "Python 3.10.5 ('pp4rs')",
   "language": "python",
   "name": "python3"
  },
  "language_info": {
   "codemirror_mode": {
    "name": "ipython",
    "version": 3
   },
   "file_extension": ".py",
   "mimetype": "text/x-python",
   "name": "python",
   "nbconvert_exporter": "python",
   "pygments_lexer": "ipython3",
   "version": "3.10.5"
  },
  "orig_nbformat": 4,
  "vscode": {
   "interpreter": {
    "hash": "204a59bdf7ab3655ff6dbdb363532740c60bcf276a7168fbd8477e399c47426b"
   }
  }
 },
 "nbformat": 4,
 "nbformat_minor": 2
}
