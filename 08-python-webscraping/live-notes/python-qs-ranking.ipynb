{
 "cells": [
  {
   "cell_type": "code",
   "execution_count": 2,
   "metadata": {},
   "outputs": [],
   "source": [
    "import requests\n",
    "import bs4"
   ]
  },
  {
   "cell_type": "code",
   "execution_count": 2,
   "metadata": {},
   "outputs": [
    {
     "data": {
      "text/plain": [
       "200"
      ]
     },
     "execution_count": 2,
     "metadata": {},
     "output_type": "execute_result"
    }
   ],
   "source": [
    "response = requests.get(\"https://www.topuniversities.com/university-rankings/world-university-rankings/2022\")\n",
    "response.status_code"
   ]
  },
  {
   "cell_type": "code",
   "execution_count": 4,
   "metadata": {},
   "outputs": [],
   "source": [
    "soup = bs4.BeautifulSoup(response.text)"
   ]
  },
  {
   "cell_type": "code",
   "execution_count": 5,
   "metadata": {},
   "outputs": [
    {
     "data": {
      "text/plain": [
       "<div id=\"ranking-data-load\">\n",
       "<div class=\"loader-ranking text-center\">\n",
       "<div class=\"loaderforuniv\"></div>\n",
       "</div>\n",
       "</div>"
      ]
     },
     "execution_count": 5,
     "metadata": {},
     "output_type": "execute_result"
    }
   ],
   "source": [
    "soup.find(\"div\", id=\"ranking-data-load\")"
   ]
  },
  {
   "cell_type": "code",
   "execution_count": 4,
   "metadata": {},
   "outputs": [
    {
     "data": {
      "text/plain": [
       "'c:\\\\Users\\\\mstancs\\\\Miniconda3\\\\envs\\\\pp4rs\\\\lib\\\\site-packages\\\\chromedriver_autoinstaller\\\\104\\\\chromedriver.exe'"
      ]
     },
     "execution_count": 4,
     "metadata": {},
     "output_type": "execute_result"
    }
   ],
   "source": [
    "from selenium import webdriver\n",
    "import chromedriver_autoinstaller\n",
    "chromedriver_autoinstaller.install()"
   ]
  },
  {
   "cell_type": "code",
   "execution_count": 28,
   "metadata": {},
   "outputs": [],
   "source": [
    "browser = webdriver.Chrome()"
   ]
  },
  {
   "cell_type": "code",
   "execution_count": 29,
   "metadata": {},
   "outputs": [],
   "source": [
    "browser.get(\"https://www.topuniversities.com/university-rankings/world-university-rankings/2022\")"
   ]
  },
  {
   "cell_type": "code",
   "execution_count": 30,
   "metadata": {},
   "outputs": [],
   "source": [
    "browser.set_window_size(1600, 900)"
   ]
  },
  {
   "cell_type": "code",
   "execution_count": 8,
   "metadata": {},
   "outputs": [
    {
     "data": {
      "text/plain": [
       "'QS World University Rankings 2022: Top Global Universities | Top Universities'"
      ]
     },
     "execution_count": 8,
     "metadata": {},
     "output_type": "execute_result"
    }
   ],
   "source": [
    "browser.title"
   ]
  },
  {
   "cell_type": "code",
   "execution_count": 10,
   "metadata": {},
   "outputs": [],
   "source": [
    "import bs4\n",
    "soup = bs4.BeautifulSoup(browser.page_source)"
   ]
  },
  {
   "cell_type": "code",
   "execution_count": 11,
   "metadata": {},
   "outputs": [
    {
     "data": {
      "text/plain": [
       "<div id=\"ranking-data-load\">\n",
       "<div class=\"row ind\">\n",
       "<div class=\"col-lg-12\">\n",
       "<div class=\"_qs-ranking-data-row normal-row\">\n",
       "<div class=\"row\">\n",
       "<div class=\"col-lg-1 col-md-2 col-sm-2 col-2 text-center\">\n",
       "<div class=\"_univ-rank hide-this-in-mobile-indi\">1</div>\n",
       "<div class=\"_univ-rank show-this-in-mobile-indi\">\n",
       "                 1\n",
       "                <div class=\"dagger-icon mobile-dagger\"><img alt=\"Dagger Icon\" class=\"d-none\" src=\"/themes/custom/tu_d8/images/svg/dagger_symbol.svg\"/></div>\n",
       "</div>\n",
       "</div>\n",
       "<div class=\"col-lg-1 col-md-1 col-sm-1 col-1 dagger-holder hide-this-in-mobile-indi\">\n",
       "<div class=\"dagger-icon\"><img alt=\"Dagger Icon\" class=\"d-none\" src=\"/themes/custom/tu_d8/images/svg/dagger_symbol.svg\"/></div>\n",
       "</div>\n",
       "<div class=\"col-lg-4 col-md-7 col-sm-7 col-7\">\n",
       "<div class=\"university-rank-row\">\n",
       "<span class=\"logo-wrapper\">\n",
       "<img src=\"/sites/default/files/massachusetts-institute-of-technology-mit_410_small.jpg\"/>\n",
       "</span>\n",
       "<div class=\"univ-details-right-pos\">\n",
       "<div class=\"td-wrap\"><a class=\"uni-link\" href=\"/universities/massachusetts-institute-technology-mit\">Massachusetts Institute of Technology (MIT) </a></div>\n",
       "<div class=\"location\"><i aria-hidden=\"true\" class=\"fal fa-map-marker-alt\"></i> Cambridge, United States</div>\n",
       "<div class=\"stars d-none\">\n",
       "<span class=\"ranking-star\">\n",
       "<i aria-hidden=\"true\" class=\"fal fa-star\"></i>\n",
       "</span>\n",
       "<span class=\"rating_number\"> </span> <span class=\"qs-stars-font\">QS Stars</span>\n",
       "</div>\n",
       "</div>\n",
       "</div>\n",
       "</div>\n",
       "<div class=\"col-lg-2 col-md-2 col-sm-2 col-2 text-center\">\n",
       "<span class=\"overall-score-span hide-this-in-mobile-indi\"> 100 </span>\n",
       "<span class=\"overall-score-span show-this-in-mobile-indi\"> 100 </span>\n",
       "</div>\n",
       "<div class=\"col-lg-4 offset-lg-0 col-md-12 offset-md-0 col-sm-11 offset-sm-1 text-center\">\n",
       "<div class=\"ranking_cmt ranking_cmt_newcss gsac_buttons_js _rannking-cats-nid-294850 addAttribute_294850\" core_id=\"410\" nid=\"294850\" universitytitle=\"Massachusetts Institute of Technology (MIT) \"><div class=\"_addingButtonTypes_js_294850\"><a class=\"_directorypage _shortlist_nid_294850 float-right circle-background margin-right-24 margin-top-4 shortlist-ac-incac shortListornotjs\" href=\"javascript:void(0)\" nid=\"294850\" onclick=\"Drupal.behaviors.tu_d8._adduniversityShortlist(this, 294850, 'university')\" progoruniv=\"univ\"><i aria-hidden=\"true\" class=\"fa fa-heart\"></i><i aria-hidden=\"true\" class=\"fal fa-heart\"></i></a><a class=\"compare-icon-ac-inac compare circle-background margin-right-24 margin-top-4 _globCompUniv_js _globcompare_universityCookie_js_294850 float-right\" href=\"javascript:void(0)\" onclick=\"Drupal.behaviors.tu_d8._adduniversityCompare(this, 294850)\" progoruniv=\"univ\"><span class=\"two-square-icon\"><i aria-hidden=\"true\" class=\"fal fa-plus-square\"></i><i aria-hidden=\"true\" class=\"fas fa-check-square\"></i></span></a></div></div>\n",
       "<div class=\"addAttribute_view_programs_0 float-left-mobile\">\n",
       "</div>\n",
       "</div>\n",
       "</div>\n",
       "</div>\n",
       "</div>\n",
       "</div>\n",
       "<div class=\"row ind\">\n",
       "<div class=\"col-lg-12\">\n",
       "<div class=\"_qs-ranking-data-row normal-row\">\n",
       "<div class=\"row\">\n",
       "<div class=\"col-lg-1 col-md-2 col-sm-2 col-2 text-center\">\n",
       "<div class=\"_univ-rank hide-this-in-mobile-indi\">2</div>\n",
       "<div class=\"_univ-rank show-this-in-mobile-indi\">\n",
       "                 2\n",
       "                <div class=\"dagger-icon mobile-dagger\"><img alt=\"Dagger Icon\" class=\"d-none\" src=\"/themes/custom/tu_d8/images/svg/dagger_symbol.svg\"/></div>\n",
       "</div>\n",
       "</div>\n",
       "<div class=\"col-lg-1 col-md-1 col-sm-1 col-1 dagger-holder hide-this-in-mobile-indi\">\n",
       "<div class=\"dagger-icon\"><img alt=\"Dagger Icon\" class=\"d-none\" src=\"/themes/custom/tu_d8/images/svg/dagger_symbol.svg\"/></div>\n",
       "</div>\n",
       "<div class=\"col-lg-4 col-md-7 col-sm-7 col-7\">\n",
       "<div class=\"university-rank-row\">\n",
       "<span class=\"logo-wrapper\">\n",
       "<img src=\"/sites/default/files/university-of-oxford_478_small.jpg\"/>\n",
       "</span>\n",
       "<div class=\"univ-details-right-pos\">\n",
       "<div class=\"td-wrap\"><a class=\"uni-link\" href=\"/universities/university-oxford\">University of Oxford</a></div>\n",
       "<div class=\"location\"><i aria-hidden=\"true\" class=\"fal fa-map-marker-alt\"></i> Oxford, United Kingdom</div>\n",
       "<div class=\"stars d-none\">\n",
       "<span class=\"ranking-star\">\n",
       "<i aria-hidden=\"true\" class=\"fal fa-star\"></i>\n",
       "</span>\n",
       "<span class=\"rating_number\"> </span> <span class=\"qs-stars-font\">QS Stars</span>\n",
       "</div>\n",
       "</div>\n",
       "</div>\n",
       "</div>\n",
       "<div class=\"col-lg-2 col-md-2 col-sm-2 col-2 text-center\">\n",
       "<span class=\"overall-score-span hide-this-in-mobile-indi\"> 99.5 </span>\n",
       "<span class=\"overall-score-span show-this-in-mobile-indi\"> 99.5 </span>\n",
       "</div>\n",
       "<div class=\"col-lg-4 offset-lg-0 col-md-12 offset-md-0 col-sm-11 offset-sm-1 text-center\">\n",
       "<div class=\"ranking_cmt ranking_cmt_newcss gsac_buttons_js _rannking-cats-nid-294654 addAttribute_294654\" core_id=\"478\" nid=\"294654\" universitytitle=\"University of Oxford\"><div class=\"_addingButtonTypes_js_294654\"><a class=\"_directorypage _shortlist_nid_294654 float-right circle-background margin-right-24 margin-top-4 shortlist-ac-incac shortListornotjs\" href=\"javascript:void(0)\" nid=\"294654\" onclick=\"Drupal.behaviors.tu_d8._adduniversityShortlist(this, 294654, 'university')\" progoruniv=\"univ\"><i aria-hidden=\"true\" class=\"fa fa-heart\"></i><i aria-hidden=\"true\" class=\"fal fa-heart\"></i></a><a class=\"compare-icon-ac-inac compare circle-background margin-right-24 margin-top-4 _globCompUniv_js _globcompare_universityCookie_js_294654 float-right\" href=\"javascript:void(0)\" onclick=\"Drupal.behaviors.tu_d8._adduniversityCompare(this, 294654)\" progoruniv=\"univ\"><span class=\"two-square-icon\"><i aria-hidden=\"true\" class=\"fal fa-plus-square\"></i><i aria-hidden=\"true\" class=\"fas fa-check-square\"></i></span></a></div></div>\n",
       "<div class=\"addAttribute_view_programs_1 float-left-mobile\">\n",
       "</div>\n",
       "</div>\n",
       "</div>\n",
       "</div>\n",
       "</div>\n",
       "</div>\n",
       "<div class=\"row ind\">\n",
       "<div class=\"col-lg-12\">\n",
       "<div class=\"_qs-ranking-data-row normal-row\">\n",
       "<div class=\"row\">\n",
       "<div class=\"col-lg-1 col-md-2 col-sm-2 col-2 text-center\">\n",
       "<div class=\"_univ-rank hide-this-in-mobile-indi\">=3</div>\n",
       "<div class=\"_univ-rank show-this-in-mobile-indi\">\n",
       "                 =3\n",
       "                <div class=\"dagger-icon mobile-dagger\"><img alt=\"Dagger Icon\" class=\"d-none\" src=\"/themes/custom/tu_d8/images/svg/dagger_symbol.svg\"/></div>\n",
       "</div>\n",
       "</div>\n",
       "<div class=\"col-lg-1 col-md-1 col-sm-1 col-1 dagger-holder hide-this-in-mobile-indi\">\n",
       "<div class=\"dagger-icon\"><img alt=\"Dagger Icon\" class=\"d-none\" src=\"/themes/custom/tu_d8/images/svg/dagger_symbol.svg\"/></div>\n",
       "</div>\n",
       "<div class=\"col-lg-4 col-md-7 col-sm-7 col-7\">\n",
       "<div class=\"university-rank-row\">\n",
       "<span class=\"logo-wrapper\">\n",
       "<img src=\"/sites/default/files/stanford-university_573_small.jpg\"/>\n",
       "</span>\n",
       "<div class=\"univ-details-right-pos\">\n",
       "<div class=\"td-wrap\"><a class=\"uni-link\" href=\"/universities/stanford-university\">Stanford University</a></div>\n",
       "<div class=\"location\"><i aria-hidden=\"true\" class=\"fal fa-map-marker-alt\"></i> Stanford, United States</div>\n",
       "<div class=\"stars d-none\">\n",
       "<span class=\"ranking-star\">\n",
       "<i aria-hidden=\"true\" class=\"fal fa-star\"></i>\n",
       "</span>\n",
       "<span class=\"rating_number\"> </span> <span class=\"qs-stars-font\">QS Stars</span>\n",
       "</div>\n",
       "</div>\n",
       "</div>\n",
       "</div>\n",
       "<div class=\"col-lg-2 col-md-2 col-sm-2 col-2 text-center\">\n",
       "<span class=\"overall-score-span hide-this-in-mobile-indi\"> 98.7 </span>\n",
       "<span class=\"overall-score-span show-this-in-mobile-indi\"> 98.7 </span>\n",
       "</div>\n",
       "<div class=\"col-lg-4 offset-lg-0 col-md-12 offset-md-0 col-sm-11 offset-sm-1 text-center\">\n",
       "<div class=\"ranking_cmt ranking_cmt_newcss gsac_buttons_js _rannking-cats-nid-297282 addAttribute_297282\" core_id=\"573\" nid=\"297282\" universitytitle=\"Stanford University\"><div class=\"_addingButtonTypes_js_297282\"><a class=\"_directorypage _shortlist_nid_297282 float-right circle-background margin-right-24 margin-top-4 shortlist-ac-incac shortListornotjs\" href=\"javascript:void(0)\" nid=\"297282\" onclick=\"Drupal.behaviors.tu_d8._adduniversityShortlist(this, 297282, 'university')\" progoruniv=\"univ\"><i aria-hidden=\"true\" class=\"fa fa-heart\"></i><i aria-hidden=\"true\" class=\"fal fa-heart\"></i></a><a class=\"compare-icon-ac-inac compare circle-background margin-right-24 margin-top-4 _globCompUniv_js _globcompare_universityCookie_js_297282 float-right\" href=\"javascript:void(0)\" onclick=\"Drupal.behaviors.tu_d8._adduniversityCompare(this, 297282)\" progoruniv=\"univ\"><span class=\"two-square-icon\"><i aria-hidden=\"true\" class=\"fal fa-plus-square\"></i><i aria-hidden=\"true\" class=\"fas fa-check-square\"></i></span></a></div></div>\n",
       "<div class=\"addAttribute_view_programs_2 float-left-mobile\">\n",
       "</div>\n",
       "</div>\n",
       "</div>\n",
       "</div>\n",
       "</div>\n",
       "</div><div class=\"row need-section-margin dynamic-block-ranking-1\" customblock=\"true\" position=\"3\">\n",
       "<div class=\"_ifdfp_1 _ifdfp_1_divcss scroll-in-mobile td-wrap col-lg-12\">\n",
       "<div class=\"text-center\" data-google-query-id=\"CJf39PDO8_kCFRm1dwodANcGDA\" id=\"js-dfp-tag-responsive_ad_1\">\n",
       "<div id=\"google_ads_iframe_8070/Topuni-Web/university-rankings/world-university-rankings/2022_0__container__\" style=\"border: 0pt none;\"><iframe aria-label=\"Advertisement\" data-google-container-id=\"2\" data-load-complete=\"true\" frameborder=\"0\" height=\"250\" id=\"google_ads_iframe_8070/Topuni-Web/university-rankings/world-university-rankings/2022_0\" marginheight=\"0\" marginwidth=\"0\" name=\"google_ads_iframe_8070/Topuni-Web/university-rankings/world-university-rankings/2022_0\" role=\"region\" scrolling=\"no\" style=\"border: 0px; vertical-align: bottom;\" tabindex=\"0\" title=\"3rd party ad content\" width=\"970\"></iframe></div></div>\n",
       "</div>\n",
       "</div>\n",
       "<div class=\"row ind\">\n",
       "<div class=\"col-lg-12\">\n",
       "<div class=\"_qs-ranking-data-row normal-row\">\n",
       "<div class=\"row\">\n",
       "<div class=\"col-lg-1 col-md-2 col-sm-2 col-2 text-center\">\n",
       "<div class=\"_univ-rank hide-this-in-mobile-indi\">=3</div>\n",
       "<div class=\"_univ-rank show-this-in-mobile-indi\">\n",
       "                 =3\n",
       "                <div class=\"dagger-icon mobile-dagger\"><img alt=\"Dagger Icon\" class=\"d-none\" src=\"/themes/custom/tu_d8/images/svg/dagger_symbol.svg\"/></div>\n",
       "</div>\n",
       "</div>\n",
       "<div class=\"col-lg-1 col-md-1 col-sm-1 col-1 dagger-holder hide-this-in-mobile-indi\">\n",
       "<div class=\"dagger-icon\"><img alt=\"Dagger Icon\" class=\"d-none\" src=\"/themes/custom/tu_d8/images/svg/dagger_symbol.svg\"/></div>\n",
       "</div>\n",
       "<div class=\"col-lg-4 col-md-7 col-sm-7 col-7\">\n",
       "<div class=\"university-rank-row\">\n",
       "<span class=\"logo-wrapper\">\n",
       "<img src=\"/sites/default/files/university-of-cambridge_95_small.jpg\"/>\n",
       "</span>\n",
       "<div class=\"univ-details-right-pos\">\n",
       "<div class=\"td-wrap\"><a class=\"uni-link\" href=\"/universities/university-cambridge\">University of Cambridge</a></div>\n",
       "<div class=\"location\"><i aria-hidden=\"true\" class=\"fal fa-map-marker-alt\"></i> Cambridge, United Kingdom</div>\n",
       "<div class=\"stars d-none\">\n",
       "<span class=\"ranking-star\">\n",
       "<i aria-hidden=\"true\" class=\"fal fa-star\"></i>\n",
       "</span>\n",
       "<span class=\"rating_number\"> </span> <span class=\"qs-stars-font\">QS Stars</span>\n",
       "</div>\n",
       "</div>\n",
       "</div>\n",
       "</div>\n",
       "<div class=\"col-lg-2 col-md-2 col-sm-2 col-2 text-center\">\n",
       "<span class=\"overall-score-span hide-this-in-mobile-indi\"> 98.7 </span>\n",
       "<span class=\"overall-score-span show-this-in-mobile-indi\"> 98.7 </span>\n",
       "</div>\n",
       "<div class=\"col-lg-4 offset-lg-0 col-md-12 offset-md-0 col-sm-11 offset-sm-1 text-center\">\n",
       "<div class=\"ranking_cmt ranking_cmt_newcss gsac_buttons_js _rannking-cats-nid-294561 addAttribute_294561\" core_id=\"95\" nid=\"294561\" universitytitle=\"University of Cambridge\"><div class=\"_addingButtonTypes_js_294561\"><a class=\"_directorypage _shortlist_nid_294561 float-right circle-background margin-right-24 margin-top-4 shortlist-ac-incac shortListornotjs\" href=\"javascript:void(0)\" nid=\"294561\" onclick=\"Drupal.behaviors.tu_d8._adduniversityShortlist(this, 294561, 'university')\" progoruniv=\"univ\"><i aria-hidden=\"true\" class=\"fa fa-heart\"></i><i aria-hidden=\"true\" class=\"fal fa-heart\"></i></a><a class=\"compare-icon-ac-inac compare circle-background margin-right-24 margin-top-4 _globCompUniv_js _globcompare_universityCookie_js_294561 float-right\" href=\"javascript:void(0)\" onclick=\"Drupal.behaviors.tu_d8._adduniversityCompare(this, 294561)\" progoruniv=\"univ\"><span class=\"two-square-icon\"><i aria-hidden=\"true\" class=\"fal fa-plus-square\"></i><i aria-hidden=\"true\" class=\"fas fa-check-square\"></i></span></a></div></div>\n",
       "<div class=\"addAttribute_view_programs_3 float-left-mobile\">\n",
       "</div>\n",
       "</div>\n",
       "</div>\n",
       "</div>\n",
       "</div>\n",
       "</div>\n",
       "<div class=\"row ind\">\n",
       "<div class=\"col-lg-12\">\n",
       "<div class=\"_qs-ranking-data-row normal-row\">\n",
       "<div class=\"row\">\n",
       "<div class=\"col-lg-1 col-md-2 col-sm-2 col-2 text-center\">\n",
       "<div class=\"_univ-rank hide-this-in-mobile-indi\">5</div>\n",
       "<div class=\"_univ-rank show-this-in-mobile-indi\">\n",
       "                 5\n",
       "                <div class=\"dagger-icon mobile-dagger\"><img alt=\"Dagger Icon\" class=\"d-none\" src=\"/themes/custom/tu_d8/images/svg/dagger_symbol.svg\"/></div>\n",
       "</div>\n",
       "</div>\n",
       "<div class=\"col-lg-1 col-md-1 col-sm-1 col-1 dagger-holder hide-this-in-mobile-indi\">\n",
       "<div class=\"dagger-icon\"><img alt=\"Dagger Icon\" class=\"d-none\" src=\"/themes/custom/tu_d8/images/svg/dagger_symbol.svg\"/></div>\n",
       "</div>\n",
       "<div class=\"col-lg-4 col-md-7 col-sm-7 col-7\">\n",
       "<div class=\"university-rank-row\">\n",
       "<span class=\"logo-wrapper\">\n",
       "<img src=\"/sites/default/files/harvard-university_253_small.jpg\"/>\n",
       "</span>\n",
       "<div class=\"univ-details-right-pos\">\n",
       "<div class=\"td-wrap\"><a class=\"uni-link\" href=\"/universities/harvard-university\">Harvard University</a></div>\n",
       "<div class=\"location\"><i aria-hidden=\"true\" class=\"fal fa-map-marker-alt\"></i> Cambridge, United States</div>\n",
       "<div class=\"stars d-none\">\n",
       "<span class=\"ranking-star\">\n",
       "<i aria-hidden=\"true\" class=\"fal fa-star\"></i>\n",
       "</span>\n",
       "<span class=\"rating_number\"> </span> <span class=\"qs-stars-font\">QS Stars</span>\n",
       "</div>\n",
       "</div>\n",
       "</div>\n",
       "</div>\n",
       "<div class=\"col-lg-2 col-md-2 col-sm-2 col-2 text-center\">\n",
       "<span class=\"overall-score-span hide-this-in-mobile-indi\"> 98 </span>\n",
       "<span class=\"overall-score-span show-this-in-mobile-indi\"> 98 </span>\n",
       "</div>\n",
       "<div class=\"col-lg-4 offset-lg-0 col-md-12 offset-md-0 col-sm-11 offset-sm-1 text-center\">\n",
       "<div class=\"ranking_cmt ranking_cmt_newcss gsac_buttons_js _rannking-cats-nid-294270 addAttribute_294270\" core_id=\"253\" nid=\"294270\" universitytitle=\"Harvard University\"><div class=\"_addingButtonTypes_js_294270\"><a class=\"_directorypage _shortlist_nid_294270 float-right circle-background margin-right-24 margin-top-4 shortlist-ac-incac shortListornotjs\" href=\"javascript:void(0)\" nid=\"294270\" onclick=\"Drupal.behaviors.tu_d8._adduniversityShortlist(this, 294270, 'university')\" progoruniv=\"univ\"><i aria-hidden=\"true\" class=\"fa fa-heart\"></i><i aria-hidden=\"true\" class=\"fal fa-heart\"></i></a><a class=\"compare-icon-ac-inac compare circle-background margin-right-24 margin-top-4 _globCompUniv_js _globcompare_universityCookie_js_294270 float-right\" href=\"javascript:void(0)\" onclick=\"Drupal.behaviors.tu_d8._adduniversityCompare(this, 294270)\" progoruniv=\"univ\"><span class=\"two-square-icon\"><i aria-hidden=\"true\" class=\"fal fa-plus-square\"></i><i aria-hidden=\"true\" class=\"fas fa-check-square\"></i></span></a></div></div>\n",
       "<div class=\"addAttribute_view_programs_4 float-left-mobile\">\n",
       "</div>\n",
       "</div>\n",
       "</div>\n",
       "</div>\n",
       "</div>\n",
       "</div>\n",
       "<div class=\"row ind\">\n",
       "<div class=\"col-lg-12\">\n",
       "<div class=\"_qs-ranking-data-row normal-row\">\n",
       "<div class=\"row\">\n",
       "<div class=\"col-lg-1 col-md-2 col-sm-2 col-2 text-center\">\n",
       "<div class=\"_univ-rank hide-this-in-mobile-indi\">6</div>\n",
       "<div class=\"_univ-rank show-this-in-mobile-indi\">\n",
       "                 6\n",
       "                <div class=\"dagger-icon mobile-dagger\"><img alt=\"Dagger Icon\" class=\"d-none\" src=\"/themes/custom/tu_d8/images/svg/dagger_symbol.svg\"/></div>\n",
       "</div>\n",
       "</div>\n",
       "<div class=\"col-lg-1 col-md-1 col-sm-1 col-1 dagger-holder hide-this-in-mobile-indi\">\n",
       "<div class=\"dagger-icon\"><img alt=\"Dagger Icon\" class=\"d-none\" src=\"/themes/custom/tu_d8/images/svg/dagger_symbol.svg\"/></div>\n",
       "</div>\n",
       "<div class=\"col-lg-4 col-md-7 col-sm-7 col-7\">\n",
       "<div class=\"university-rank-row\">\n",
       "<span class=\"logo-wrapper\">\n",
       "<img src=\"/sites/default/files/california-institute-of-technology-caltech_94_small.jpg\"/>\n",
       "</span>\n",
       "<div class=\"univ-details-right-pos\">\n",
       "<div class=\"td-wrap\"><a class=\"uni-link\" href=\"/universities/california-institute-technology-caltech\">California Institute of Technology (Caltech)</a></div>\n",
       "<div class=\"location\"><i aria-hidden=\"true\" class=\"fal fa-map-marker-alt\"></i> Pasadena, United States</div>\n",
       "<div class=\"stars d-none\">\n",
       "<span class=\"ranking-star\">\n",
       "<i aria-hidden=\"true\" class=\"fal fa-star\"></i>\n",
       "</span>\n",
       "<span class=\"rating_number\"> </span> <span class=\"qs-stars-font\">QS Stars</span>\n",
       "</div>\n",
       "</div>\n",
       "</div>\n",
       "</div>\n",
       "<div class=\"col-lg-2 col-md-2 col-sm-2 col-2 text-center\">\n",
       "<span class=\"overall-score-span hide-this-in-mobile-indi\"> 97.4 </span>\n",
       "<span class=\"overall-score-span show-this-in-mobile-indi\"> 97.4 </span>\n",
       "</div>\n",
       "<div class=\"col-lg-4 offset-lg-0 col-md-12 offset-md-0 col-sm-11 offset-sm-1 text-center\">\n",
       "<div class=\"ranking_cmt ranking_cmt_newcss gsac_buttons_js _rannking-cats-nid-294562 addAttribute_294562\" core_id=\"94\" nid=\"294562\" universitytitle=\"California Institute of Technology (Caltech)\"><div class=\"_addingButtonTypes_js_294562\"><a class=\"_directorypage _shortlist_nid_294562 float-right circle-background margin-right-24 margin-top-4 shortlist-ac-incac shortListornotjs\" href=\"javascript:void(0)\" nid=\"294562\" onclick=\"Drupal.behaviors.tu_d8._adduniversityShortlist(this, 294562, 'university')\" progoruniv=\"univ\"><i aria-hidden=\"true\" class=\"fa fa-heart\"></i><i aria-hidden=\"true\" class=\"fal fa-heart\"></i></a><a class=\"compare-icon-ac-inac compare circle-background margin-right-24 margin-top-4 _globCompUniv_js _globcompare_universityCookie_js_294562 float-right\" href=\"javascript:void(0)\" onclick=\"Drupal.behaviors.tu_d8._adduniversityCompare(this, 294562)\" progoruniv=\"univ\"><span class=\"two-square-icon\"><i aria-hidden=\"true\" class=\"fal fa-plus-square\"></i><i aria-hidden=\"true\" class=\"fas fa-check-square\"></i></span></a></div></div>\n",
       "<div class=\"addAttribute_view_programs_5 float-left-mobile\">\n",
       "</div>\n",
       "</div>\n",
       "</div>\n",
       "</div>\n",
       "</div>\n",
       "</div>\n",
       "<div class=\"row ind\">\n",
       "<div class=\"col-lg-12\">\n",
       "<div class=\"_qs-ranking-data-row normal-row\">\n",
       "<div class=\"row\">\n",
       "<div class=\"col-lg-1 col-md-2 col-sm-2 col-2 text-center\">\n",
       "<div class=\"_univ-rank hide-this-in-mobile-indi\">7</div>\n",
       "<div class=\"_univ-rank show-this-in-mobile-indi\">\n",
       "                 7\n",
       "                <div class=\"dagger-icon mobile-dagger\"><img alt=\"Dagger Icon\" class=\"d-none\" src=\"/themes/custom/tu_d8/images/svg/dagger_symbol.svg\"/></div>\n",
       "</div>\n",
       "</div>\n",
       "<div class=\"col-lg-1 col-md-1 col-sm-1 col-1 dagger-holder hide-this-in-mobile-indi\">\n",
       "<div class=\"dagger-icon\"><img alt=\"Dagger Icon\" class=\"d-none\" src=\"/themes/custom/tu_d8/images/svg/dagger_symbol.svg\"/></div>\n",
       "</div>\n",
       "<div class=\"col-lg-4 col-md-7 col-sm-7 col-7\">\n",
       "<div class=\"university-rank-row\">\n",
       "<span class=\"logo-wrapper\">\n",
       "<img src=\"/sites/default/files/imperial-college-london_592560cf2aeae70239af4be8_small.jpg\"/>\n",
       "</span>\n",
       "<div class=\"univ-details-right-pos\">\n",
       "<div class=\"td-wrap\"><a class=\"uni-link\" href=\"/universities/imperial-college-london\">Imperial College London</a></div>\n",
       "<div class=\"location\"><i aria-hidden=\"true\" class=\"fal fa-map-marker-alt\"></i> London, United Kingdom</div>\n",
       "<div class=\"stars d-none\">\n",
       "<span class=\"ranking-star\">\n",
       "<i aria-hidden=\"true\" class=\"fal fa-star\"></i>\n",
       "</span>\n",
       "<span class=\"rating_number\"> </span> <span class=\"qs-stars-font\">QS Stars</span>\n",
       "</div>\n",
       "</div>\n",
       "</div>\n",
       "</div>\n",
       "<div class=\"col-lg-2 col-md-2 col-sm-2 col-2 text-center\">\n",
       "<span class=\"overall-score-span hide-this-in-mobile-indi\"> 97.3 </span>\n",
       "<span class=\"overall-score-span show-this-in-mobile-indi\"> 97.3 </span>\n",
       "</div>\n",
       "<div class=\"col-lg-4 offset-lg-0 col-md-12 offset-md-0 col-sm-11 offset-sm-1 text-center\">\n",
       "<div class=\"ranking_cmt ranking_cmt_newcss gsac_buttons_js _rannking-cats-nid-294030 addAttribute_294030\" core_id=\"356\" nid=\"294030\" universitytitle=\"Imperial College London\"><div class=\"_addingButtonTypes_js_294030\"><a class=\"_directorypage _shortlist_nid_294030 float-right circle-background margin-right-24 margin-top-4 shortlist-ac-incac shortListornotjs\" href=\"javascript:void(0)\" nid=\"294030\" onclick=\"Drupal.behaviors.tu_d8._adduniversityShortlist(this, 294030, 'university')\" progoruniv=\"univ\"><i aria-hidden=\"true\" class=\"fa fa-heart\"></i><i aria-hidden=\"true\" class=\"fal fa-heart\"></i></a><a class=\"compare-icon-ac-inac compare circle-background margin-right-24 margin-top-4 _globCompUniv_js _globcompare_universityCookie_js_294030 float-right\" href=\"javascript:void(0)\" onclick=\"Drupal.behaviors.tu_d8._adduniversityCompare(this, 294030)\" progoruniv=\"univ\"><span class=\"two-square-icon\"><i aria-hidden=\"true\" class=\"fal fa-plus-square\"></i><i aria-hidden=\"true\" class=\"fas fa-check-square\"></i></span></a></div></div>\n",
       "<div class=\"addAttribute_view_programs_6 float-left-mobile\">\n",
       "</div>\n",
       "</div>\n",
       "</div>\n",
       "</div>\n",
       "</div>\n",
       "</div>\n",
       "<div class=\"row ind\">\n",
       "<div class=\"col-lg-12\">\n",
       "<div class=\"_qs-ranking-data-row normal-row\">\n",
       "<div class=\"row\">\n",
       "<div class=\"col-lg-1 col-md-2 col-sm-2 col-2 text-center\">\n",
       "<div class=\"_univ-rank hide-this-in-mobile-indi\">=8</div>\n",
       "<div class=\"_univ-rank show-this-in-mobile-indi\">\n",
       "                 =8\n",
       "                <div class=\"dagger-icon mobile-dagger\"><img alt=\"Dagger Icon\" class=\"d-none\" src=\"/themes/custom/tu_d8/images/svg/dagger_symbol.svg\"/></div>\n",
       "</div>\n",
       "</div>\n",
       "<div class=\"col-lg-1 col-md-1 col-sm-1 col-1 dagger-holder hide-this-in-mobile-indi\">\n",
       "<div class=\"dagger-icon\"><img alt=\"Dagger Icon\" class=\"d-none\" src=\"/themes/custom/tu_d8/images/svg/dagger_symbol.svg\"/></div>\n",
       "</div>\n",
       "<div class=\"col-lg-4 col-md-7 col-sm-7 col-7\">\n",
       "<div class=\"university-rank-row\">\n",
       "<span class=\"logo-wrapper\">\n",
       "<img src=\"/sites/default/files/eth-zurich-swiss-federal-institute-of-technology_201_small.jpg\"/>\n",
       "</span>\n",
       "<div class=\"univ-details-right-pos\">\n",
       "<div class=\"td-wrap\"><a class=\"uni-link\" href=\"/universities/eth-zurich\">ETH Zurich</a></div>\n",
       "<div class=\"location\"><i aria-hidden=\"true\" class=\"fal fa-map-marker-alt\"></i> Zürich, Switzerland</div>\n",
       "<div class=\"stars d-none\">\n",
       "<span class=\"ranking-star\">\n",
       "<i aria-hidden=\"true\" class=\"fal fa-star\"></i>\n",
       "</span>\n",
       "<span class=\"rating_number\"> </span> <span class=\"qs-stars-font\">QS Stars</span>\n",
       "</div>\n",
       "</div>\n",
       "</div>\n",
       "</div>\n",
       "<div class=\"col-lg-2 col-md-2 col-sm-2 col-2 text-center\">\n",
       "<span class=\"overall-score-span hide-this-in-mobile-indi\"> 95.4 </span>\n",
       "<span class=\"overall-score-span show-this-in-mobile-indi\"> 95.4 </span>\n",
       "</div>\n",
       "<div class=\"col-lg-4 offset-lg-0 col-md-12 offset-md-0 col-sm-11 offset-sm-1 text-center\">\n",
       "<div class=\"ranking_cmt ranking_cmt_newcss gsac_buttons_js _rannking-cats-nid-294432 addAttribute_294432\" core_id=\"201\" nid=\"294432\" universitytitle=\"ETH Zurich\"><div class=\"_addingButtonTypes_js_294432\"><a class=\"_directorypage _shortlist_nid_294432 float-right circle-background margin-right-24 margin-top-4 shortlist-ac-incac shortListornotjs\" href=\"javascript:void(0)\" nid=\"294432\" onclick=\"Drupal.behaviors.tu_d8._adduniversityShortlist(this, 294432, 'university')\" progoruniv=\"univ\"><i aria-hidden=\"true\" class=\"fa fa-heart\"></i><i aria-hidden=\"true\" class=\"fal fa-heart\"></i></a><a class=\"compare-icon-ac-inac compare circle-background margin-right-24 margin-top-4 _globCompUniv_js _globcompare_universityCookie_js_294432 float-right\" href=\"javascript:void(0)\" onclick=\"Drupal.behaviors.tu_d8._adduniversityCompare(this, 294432)\" progoruniv=\"univ\"><span class=\"two-square-icon\"><i aria-hidden=\"true\" class=\"fal fa-plus-square\"></i><i aria-hidden=\"true\" class=\"fas fa-check-square\"></i></span></a></div></div>\n",
       "<div class=\"addAttribute_view_programs_7 float-left-mobile\">\n",
       "</div>\n",
       "</div>\n",
       "</div>\n",
       "</div>\n",
       "</div>\n",
       "</div><div class=\"row need-section-margin dynamic-block-ranking-2\" customblock=\"true\" position=\"8\">\n",
       "<div class=\"_ifdfp_1 td-wrap col-lg-12 _ifdfp_1_divcss scroll-in-mobile\">\n",
       "<div class=\"text-center\" data-google-query-id=\"CNCb9fDO8_kCFbMViwodrcMJVA\" id=\"js-dfp-tag-responsive_ad_2\">\n",
       "<div id=\"google_ads_iframe_8070/Topuni-Web/university-rankings/world-university-rankings/2022_1__container__\" style=\"border: 0pt none;\"><iframe aria-label=\"Advertisement\" data-google-container-id=\"3\" data-load-complete=\"true\" frameborder=\"0\" height=\"250\" id=\"google_ads_iframe_8070/Topuni-Web/university-rankings/world-university-rankings/2022_1\" marginheight=\"0\" marginwidth=\"0\" name=\"google_ads_iframe_8070/Topuni-Web/university-rankings/world-university-rankings/2022_1\" role=\"region\" scrolling=\"no\" style=\"border: 0px; vertical-align: bottom;\" tabindex=\"0\" title=\"3rd party ad content\" width=\"970\"></iframe></div></div>\n",
       "</div>\n",
       "</div>\n",
       "<div class=\"row ind\">\n",
       "<div class=\"col-lg-12\">\n",
       "<div class=\"_qs-ranking-data-row normal-row\">\n",
       "<div class=\"row\">\n",
       "<div class=\"col-lg-1 col-md-2 col-sm-2 col-2 text-center\">\n",
       "<div class=\"_univ-rank hide-this-in-mobile-indi\">=8</div>\n",
       "<div class=\"_univ-rank show-this-in-mobile-indi\">\n",
       "                 =8\n",
       "                <div class=\"dagger-icon mobile-dagger\"><img alt=\"Dagger Icon\" class=\"d-none\" src=\"/themes/custom/tu_d8/images/svg/dagger_symbol.svg\"/></div>\n",
       "</div>\n",
       "</div>\n",
       "<div class=\"col-lg-1 col-md-1 col-sm-1 col-1 dagger-holder hide-this-in-mobile-indi\">\n",
       "<div class=\"dagger-icon\"><img alt=\"Dagger Icon\" class=\"d-none\" src=\"/themes/custom/tu_d8/images/svg/dagger_symbol.svg\"/></div>\n",
       "</div>\n",
       "<div class=\"col-lg-4 col-md-7 col-sm-7 col-7\">\n",
       "<div class=\"university-rank-row\">\n",
       "<span class=\"logo-wrapper\">\n",
       "<img src=\"/sites/default/files/ucl_592560cf2aeae70239af4bf1_small.jpg\"/>\n",
       "</span>\n",
       "<div class=\"univ-details-right-pos\">\n",
       "<div class=\"td-wrap\"><a class=\"uni-link\" href=\"/universities/ucl\">UCL</a></div>\n",
       "<div class=\"location\"><i aria-hidden=\"true\" class=\"fal fa-map-marker-alt\"></i> London, United Kingdom</div>\n",
       "<div class=\"stars d-none\">\n",
       "<span class=\"ranking-star\">\n",
       "<i aria-hidden=\"true\" class=\"fal fa-star\"></i>\n",
       "</span>\n",
       "<span class=\"rating_number\"> </span> <span class=\"qs-stars-font\">QS Stars</span>\n",
       "</div>\n",
       "</div>\n",
       "</div>\n",
       "</div>\n",
       "<div class=\"col-lg-2 col-md-2 col-sm-2 col-2 text-center\">\n",
       "<span class=\"overall-score-span hide-this-in-mobile-indi\"> 95.4 </span>\n",
       "<span class=\"overall-score-span show-this-in-mobile-indi\"> 95.4 </span>\n",
       "</div>\n",
       "<div class=\"col-lg-4 offset-lg-0 col-md-12 offset-md-0 col-sm-11 offset-sm-1 text-center\">\n",
       "<div class=\"ranking_cmt ranking_cmt_newcss gsac_buttons_js _rannking-cats-nid-294014 addAttribute_294014\" core_id=\"365\" nid=\"294014\" universitytitle=\"UCL\"><div class=\"_addingButtonTypes_js_294014\"><a class=\"_directorypage _shortlist_nid_294014 float-right circle-background margin-right-24 margin-top-4 shortlist-ac-incac shortListornotjs\" href=\"javascript:void(0)\" nid=\"294014\" onclick=\"Drupal.behaviors.tu_d8._adduniversityShortlist(this, 294014, 'university')\" progoruniv=\"univ\"><i aria-hidden=\"true\" class=\"fa fa-heart\"></i><i aria-hidden=\"true\" class=\"fal fa-heart\"></i></a><a class=\"compare-icon-ac-inac compare circle-background margin-right-24 margin-top-4 _globCompUniv_js _globcompare_universityCookie_js_294014 float-right\" href=\"javascript:void(0)\" onclick=\"Drupal.behaviors.tu_d8._adduniversityCompare(this, 294014)\" progoruniv=\"univ\"><span class=\"two-square-icon\"><i aria-hidden=\"true\" class=\"fal fa-plus-square\"></i><i aria-hidden=\"true\" class=\"fas fa-check-square\"></i></span></a></div></div>\n",
       "<div class=\"addAttribute_view_programs_8 float-left-mobile\">\n",
       "</div>\n",
       "</div>\n",
       "</div>\n",
       "</div>\n",
       "</div>\n",
       "</div>\n",
       "<div class=\"row ind\">\n",
       "<div class=\"col-lg-12\">\n",
       "<div class=\"_qs-ranking-data-row normal-row\">\n",
       "<div class=\"row\">\n",
       "<div class=\"col-lg-1 col-md-2 col-sm-2 col-2 text-center\">\n",
       "<div class=\"_univ-rank hide-this-in-mobile-indi\">10</div>\n",
       "<div class=\"_univ-rank show-this-in-mobile-indi\">\n",
       "                 10\n",
       "                <div class=\"dagger-icon mobile-dagger\"><img alt=\"Dagger Icon\" class=\"d-none\" src=\"/themes/custom/tu_d8/images/svg/dagger_symbol.svg\"/></div>\n",
       "</div>\n",
       "</div>\n",
       "<div class=\"col-lg-1 col-md-1 col-sm-1 col-1 dagger-holder hide-this-in-mobile-indi\">\n",
       "<div class=\"dagger-icon\"><img alt=\"Dagger Icon\" class=\"d-none\" src=\"/themes/custom/tu_d8/images/svg/dagger_symbol.svg\"/></div>\n",
       "</div>\n",
       "<div class=\"col-lg-4 col-md-7 col-sm-7 col-7\">\n",
       "<div class=\"university-rank-row\">\n",
       "<span class=\"logo-wrapper\">\n",
       "<img src=\"/sites/default/files/university-of-chicago_120_small.jpg\"/>\n",
       "</span>\n",
       "<div class=\"univ-details-right-pos\">\n",
       "<div class=\"td-wrap\"><a class=\"uni-link\" href=\"/universities/university-chicago\">University of Chicago</a></div>\n",
       "<div class=\"location\"><i aria-hidden=\"true\" class=\"fal fa-map-marker-alt\"></i> Chicago, United States</div>\n",
       "<div class=\"stars d-none\">\n",
       "<span class=\"ranking-star\">\n",
       "<i aria-hidden=\"true\" class=\"fal fa-star\"></i>\n",
       "</span>\n",
       "<span class=\"rating_number\"> </span> <span class=\"qs-stars-font\">QS Stars</span>\n",
       "</div>\n",
       "</div>\n",
       "</div>\n",
       "</div>\n",
       "<div class=\"col-lg-2 col-md-2 col-sm-2 col-2 text-center\">\n",
       "<span class=\"overall-score-span hide-this-in-mobile-indi\"> 94.5 </span>\n",
       "<span class=\"overall-score-span show-this-in-mobile-indi\"> 94.5 </span>\n",
       "</div>\n",
       "<div class=\"col-lg-4 offset-lg-0 col-md-12 offset-md-0 col-sm-11 offset-sm-1 text-center\">\n",
       "<div class=\"ranking_cmt ranking_cmt_newcss gsac_buttons_js _rannking-cats-nid-294536 addAttribute_294536\" core_id=\"120\" nid=\"294536\" universitytitle=\"University of Chicago\"><div class=\"_addingButtonTypes_js_294536\"><a class=\"_directorypage _shortlist_nid_294536 float-right circle-background margin-right-24 margin-top-4 shortlist-ac-incac shortListornotjs\" href=\"javascript:void(0)\" nid=\"294536\" onclick=\"Drupal.behaviors.tu_d8._adduniversityShortlist(this, 294536, 'university')\" progoruniv=\"univ\"><i aria-hidden=\"true\" class=\"fa fa-heart\"></i><i aria-hidden=\"true\" class=\"fal fa-heart\"></i></a><a class=\"compare-icon-ac-inac compare circle-background margin-right-24 margin-top-4 _globCompUniv_js _globcompare_universityCookie_js_294536 float-right\" href=\"javascript:void(0)\" onclick=\"Drupal.behaviors.tu_d8._adduniversityCompare(this, 294536)\" progoruniv=\"univ\"><span class=\"two-square-icon\"><i aria-hidden=\"true\" class=\"fal fa-plus-square\"></i><i aria-hidden=\"true\" class=\"fas fa-check-square\"></i></span></a></div></div>\n",
       "<div class=\"addAttribute_view_programs_9 float-left-mobile\">\n",
       "</div>\n",
       "</div>\n",
       "</div>\n",
       "</div>\n",
       "</div>\n",
       "</div>\n",
       "</div>"
      ]
     },
     "execution_count": 11,
     "metadata": {},
     "output_type": "execute_result"
    }
   ],
   "source": [
    "soup.find(\"div\", id=\"ranking-data-load\")"
   ]
  },
  {
   "cell_type": "code",
   "execution_count": 13,
   "metadata": {},
   "outputs": [],
   "source": [
    "soup_list= soup.find_all('div', class_ = \"_qs-ranking-data-row normal-row\")"
   ]
  },
  {
   "cell_type": "code",
   "execution_count": 21,
   "metadata": {},
   "outputs": [
    {
     "data": {
      "text/plain": [
       "' 100 '"
      ]
     },
     "execution_count": 21,
     "metadata": {},
     "output_type": "execute_result"
    }
   ],
   "source": [
    "soup_list[0].find('div', class_ = 'td-wrap').text\n",
    "soup_list[0].find('div',class_ ='_univ-rank hide-this-in-mobile-indi').text\n",
    "soup_list[0].find('span', class_= 'overall-score-span show-this-in-mobile-indi').text"
   ]
  },
  {
   "cell_type": "code",
   "execution_count": 22,
   "metadata": {},
   "outputs": [],
   "source": [
    "dlist = []\n",
    "\n",
    "for s in soup_list: \n",
    "    d = {\n",
    "        'university': s.find('div', class_ = 'td-wrap').text,\n",
    "        'rank': s.find('div',class_ ='_univ-rank hide-this-in-mobile-indi').text ,\n",
    "        'score' : s.find('span', class_= 'overall-score-span show-this-in-mobile-indi').text  \n",
    "    }\n",
    "    dlist.append(d)"
   ]
  },
  {
   "cell_type": "code",
   "execution_count": 23,
   "metadata": {},
   "outputs": [],
   "source": [
    "import pandas as pd "
   ]
  },
  {
   "cell_type": "code",
   "execution_count": 24,
   "metadata": {},
   "outputs": [
    {
     "data": {
      "text/html": [
       "<div>\n",
       "<style scoped>\n",
       "    .dataframe tbody tr th:only-of-type {\n",
       "        vertical-align: middle;\n",
       "    }\n",
       "\n",
       "    .dataframe tbody tr th {\n",
       "        vertical-align: top;\n",
       "    }\n",
       "\n",
       "    .dataframe thead th {\n",
       "        text-align: right;\n",
       "    }\n",
       "</style>\n",
       "<table border=\"1\" class=\"dataframe\">\n",
       "  <thead>\n",
       "    <tr style=\"text-align: right;\">\n",
       "      <th></th>\n",
       "      <th>university</th>\n",
       "      <th>rank</th>\n",
       "      <th>score</th>\n",
       "    </tr>\n",
       "  </thead>\n",
       "  <tbody>\n",
       "    <tr>\n",
       "      <th>0</th>\n",
       "      <td>Massachusetts Institute of Technology (MIT)</td>\n",
       "      <td>1</td>\n",
       "      <td>100</td>\n",
       "    </tr>\n",
       "    <tr>\n",
       "      <th>1</th>\n",
       "      <td>University of Oxford</td>\n",
       "      <td>2</td>\n",
       "      <td>99.5</td>\n",
       "    </tr>\n",
       "    <tr>\n",
       "      <th>2</th>\n",
       "      <td>Stanford University</td>\n",
       "      <td>=3</td>\n",
       "      <td>98.7</td>\n",
       "    </tr>\n",
       "    <tr>\n",
       "      <th>3</th>\n",
       "      <td>University of Cambridge</td>\n",
       "      <td>=3</td>\n",
       "      <td>98.7</td>\n",
       "    </tr>\n",
       "    <tr>\n",
       "      <th>4</th>\n",
       "      <td>Harvard University</td>\n",
       "      <td>5</td>\n",
       "      <td>98</td>\n",
       "    </tr>\n",
       "    <tr>\n",
       "      <th>5</th>\n",
       "      <td>California Institute of Technology (Caltech)</td>\n",
       "      <td>6</td>\n",
       "      <td>97.4</td>\n",
       "    </tr>\n",
       "    <tr>\n",
       "      <th>6</th>\n",
       "      <td>Imperial College London</td>\n",
       "      <td>7</td>\n",
       "      <td>97.3</td>\n",
       "    </tr>\n",
       "    <tr>\n",
       "      <th>7</th>\n",
       "      <td>ETH Zurich</td>\n",
       "      <td>=8</td>\n",
       "      <td>95.4</td>\n",
       "    </tr>\n",
       "    <tr>\n",
       "      <th>8</th>\n",
       "      <td>UCL</td>\n",
       "      <td>=8</td>\n",
       "      <td>95.4</td>\n",
       "    </tr>\n",
       "    <tr>\n",
       "      <th>9</th>\n",
       "      <td>University of Chicago</td>\n",
       "      <td>10</td>\n",
       "      <td>94.5</td>\n",
       "    </tr>\n",
       "  </tbody>\n",
       "</table>\n",
       "</div>"
      ],
      "text/plain": [
       "                                     university rank   score\n",
       "0  Massachusetts Institute of Technology (MIT)     1    100 \n",
       "1                          University of Oxford    2   99.5 \n",
       "2                           Stanford University   =3   98.7 \n",
       "3                       University of Cambridge   =3   98.7 \n",
       "4                            Harvard University    5     98 \n",
       "5  California Institute of Technology (Caltech)    6   97.4 \n",
       "6                       Imperial College London    7   97.3 \n",
       "7                                    ETH Zurich   =8   95.4 \n",
       "8                                           UCL   =8   95.4 \n",
       "9                         University of Chicago   10   94.5 "
      ]
     },
     "execution_count": 24,
     "metadata": {},
     "output_type": "execute_result"
    }
   ],
   "source": [
    "pd.DataFrame(dlist)"
   ]
  },
  {
   "cell_type": "markdown",
   "metadata": {},
   "source": [
    "## Clicking"
   ]
  },
  {
   "cell_type": "code",
   "execution_count": 32,
   "metadata": {},
   "outputs": [],
   "source": [
    "import time\n",
    "\n",
    "browser = webdriver.Chrome()\n",
    "browser.get(\"https://www.topuniversities.com/university-rankings/world-university-rankings/2022\")\n",
    "time.sleep(3)"
   ]
  },
  {
   "cell_type": "code",
   "execution_count": 33,
   "metadata": {},
   "outputs": [],
   "source": [
    "browser.set_window_size(900, 1600)"
   ]
  },
  {
   "cell_type": "code",
   "execution_count": 38,
   "metadata": {},
   "outputs": [
    {
     "data": {
      "text/plain": [
       "[<a class=\"page-link next\" href=\"javascript:void(0)\"><span aria-hidden=\"true\"><i aria-hidden=\"true\" class=\"fal fa-chevron-right\"></i></span></a>]"
      ]
     },
     "execution_count": 38,
     "metadata": {},
     "output_type": "execute_result"
    }
   ],
   "source": [
    "soup.find_all(\"a\", class_=\"page-link next\")"
   ]
  },
  {
   "cell_type": "code",
   "execution_count": 41,
   "metadata": {},
   "outputs": [
    {
     "data": {
      "text/plain": [
       "[<a class=\"page-link next\" href=\"javascript:void(0)\"><span aria-hidden=\"true\"><i aria-hidden=\"true\" class=\"fal fa-chevron-right\"></i></span></a>]"
      ]
     },
     "execution_count": 41,
     "metadata": {},
     "output_type": "execute_result"
    }
   ],
   "source": [
    "soup.select(\"a.page-link.next\")"
   ]
  },
  {
   "cell_type": "code",
   "execution_count": 46,
   "metadata": {},
   "outputs": [],
   "source": [
    "from selenium.webdriver.common.by import By"
   ]
  },
  {
   "cell_type": "code",
   "execution_count": 50,
   "metadata": {},
   "outputs": [],
   "source": [
    "button = browser.find_element(By.CSS_SELECTOR, \"a.page-link.next\")"
   ]
  },
  {
   "cell_type": "code",
   "execution_count": 51,
   "metadata": {},
   "outputs": [],
   "source": [
    "button.click()"
   ]
  },
  {
   "cell_type": "code",
   "execution_count": 58,
   "metadata": {},
   "outputs": [],
   "source": [
    "import time\n",
    "\n",
    "browser = webdriver.Chrome()\n",
    "browser.get(\"https://www.topuniversities.com/university-rankings/world-university-rankings/2022\")\n",
    "time.sleep(3)\n",
    "browser.set_window_size(900, 1600)\n"
   ]
  },
  {
   "cell_type": "code",
   "execution_count": 56,
   "metadata": {},
   "outputs": [
    {
     "data": {
      "text/plain": [
       "<selenium.webdriver.remote.webelement.WebElement (session=\"d50987bd7c867c8c8ad95ba250b10368\", element=\"11489abb-34cc-4b58-92a2-49cdc3c7bbd8\")>"
      ]
     },
     "execution_count": 56,
     "metadata": {},
     "output_type": "execute_result"
    }
   ],
   "source": [
    "gdpr_button = browser.find_element(By.CSS_SELECTOR, \"#popup-buttons > button\")\n",
    "gdpr_button"
   ]
  },
  {
   "cell_type": "code",
   "execution_count": 57,
   "metadata": {},
   "outputs": [],
   "source": [
    "gdpr_button.click()"
   ]
  },
  {
   "cell_type": "code",
   "execution_count": 59,
   "metadata": {},
   "outputs": [],
   "source": [
    "#alt-style-pagination > li:nth-child(8) > a"
   ]
  },
  {
   "cell_type": "code",
   "execution_count": 60,
   "metadata": {},
   "outputs": [],
   "source": [
    "browser = webdriver.Chrome()"
   ]
  },
  {
   "cell_type": "code",
   "execution_count": 61,
   "metadata": {},
   "outputs": [],
   "source": [
    "browser.close()"
   ]
  },
  {
   "cell_type": "code",
   "execution_count": null,
   "metadata": {},
   "outputs": [],
   "source": []
  }
 ],
 "metadata": {
  "kernelspec": {
   "display_name": "Python 3.10.6 ('pp4rs')",
   "language": "python",
   "name": "python3"
  },
  "language_info": {
   "codemirror_mode": {
    "name": "ipython",
    "version": 3
   },
   "file_extension": ".py",
   "mimetype": "text/x-python",
   "name": "python",
   "nbconvert_exporter": "python",
   "pygments_lexer": "ipython3",
   "version": "3.10.6"
  },
  "orig_nbformat": 4,
  "vscode": {
   "interpreter": {
    "hash": "267b942e1cf4c15f7c1b8cbc48fd20cb306701634706fc6268131f6e98dcb0fe"
   }
  }
 },
 "nbformat": 4,
 "nbformat_minor": 2
}
