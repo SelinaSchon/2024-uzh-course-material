{
 "cells": [
  {
   "cell_type": "code",
   "execution_count": 1,
   "metadata": {},
   "outputs": [],
   "source": [
    "import requests"
   ]
  },
  {
   "cell_type": "code",
   "execution_count": 2,
   "metadata": {},
   "outputs": [],
   "source": [
    "endpoint = \"https://ll.thespacedevs.com/2.2.0/launch/previous/\"\n",
    "params = {\n",
    "    \"format\": \"json\",\n",
    "    \"limit\": 50\n",
    "}"
   ]
  },
  {
   "cell_type": "code",
   "execution_count": 3,
   "metadata": {},
   "outputs": [
    {
     "data": {
      "text/plain": [
       "200"
      ]
     },
     "execution_count": 3,
     "metadata": {},
     "output_type": "execute_result"
    }
   ],
   "source": [
    "response = requests.get(endpoint, params=params)\n",
    "response.status_code"
   ]
  },
  {
   "cell_type": "code",
   "execution_count": 4,
   "metadata": {},
   "outputs": [
    {
     "data": {
      "text/plain": [
       "'https://ll.thespacedevs.com/2.2.0/launch/previous/?format=json&limit=50'"
      ]
     },
     "execution_count": 4,
     "metadata": {},
     "output_type": "execute_result"
    }
   ],
   "source": [
    "response.url"
   ]
  },
  {
   "cell_type": "code",
   "execution_count": 5,
   "metadata": {},
   "outputs": [
    {
     "name": "stdout",
     "output_type": "stream",
     "text": [
      "https://ll.thespacedevs.com/2.2.0/launch/?format=json&limit=50\n"
     ]
    }
   ],
   "source": [
    "url = f\"https://ll.thespacedevs.com/2.2.0/launch/?format={params['format']}&limit={params['limit']}\"\n",
    "print(url)"
   ]
  },
  {
   "cell_type": "code",
   "execution_count": 6,
   "metadata": {},
   "outputs": [
    {
     "data": {
      "text/plain": [
       "200"
      ]
     },
     "execution_count": 6,
     "metadata": {},
     "output_type": "execute_result"
    }
   ],
   "source": [
    "response_alt = requests.get(url)\n",
    "response_alt.status_code"
   ]
  },
  {
   "cell_type": "code",
   "execution_count": 7,
   "metadata": {},
   "outputs": [
    {
     "data": {
      "text/plain": [
       "200"
      ]
     },
     "execution_count": 7,
     "metadata": {},
     "output_type": "execute_result"
    }
   ],
   "source": [
    "response.status_code"
   ]
  },
  {
   "cell_type": "code",
   "execution_count": 8,
   "metadata": {},
   "outputs": [
    {
     "data": {
      "text/plain": [
       "b'{\"count\":6464,\"next\":\"https://ll.thespacedevs.com/2.2.0/launch/previous/?format=json&limit=50&offset=50\",\"previous\":null,\"results\":[{\"id\":\"576b04d6-1962-4bda-b43f-0da4138d192d\",\"url\":\"https://ll.thespacedevs.com/2.2.0/launch/576b04d6-1962-4bda-b43f-0da4138d192d/?format=json\",\"slug\":\"falcon-9-block-5-starlink-group-3-4\",\"name\":\"Falcon 9 Block 5 | Starlink Group 3-4\",\"status\":{\"id\":3,\"name\":\"Launch Successful\",\"abbrev\":\"Success\",\"description\":\"The launch vehicle successfully inserted its payload(s) into the target orbit(s).\"},\"last_updated\":\"2022-08-31T06:57:21Z\",\"net\":\"2022-08-31T05:40:10Z\",\"window_end\":\"2022-08-31T05:40:10Z\",\"window_start\":\"2022-08-31T05:40:10Z\",\"probability\":null,\"holdreason\":\"\",\"failreason\":\"\",\"hashtag\":null,\"launch_service_provider\":{\"id\":121,\"url\":\"https://ll.thespacedevs.com/2.2.0/agencies/121/?format=json\",\"name\":\"SpaceX\",\"type\":\"Commercial\"},\"rocket\":{\"id\":7619,\"configuration\":{\"id\":164,\"url\":\"https://ll.thespacedevs.com/2.2.0/config/launcher/164/?format=json\",\"name\":\"Falcon 9\",\"family\":\"Falcon\",\"full_name\":\"Falcon 9 Block 5\",\"variant\":\"Block 5\"}},\"mission\":{\"id\":6117,\"name\":\"Starlink Group 3-4\",\"description\":\"A batch of 46 satellites for Starlink mega-constellation - SpaceX\\'s project for space-based Internet communication system.\",\"launch_designator\":null,\"type\":\"Communications\",\"orbit\":{\"id\":8,\"name\":\"Low Earth Orbit\",\"abbrev\":\"LEO\"}},\"pad\":{\"id\":16,\"url\":\"https://ll.thespacedevs.com/2.2.0/pad/16/?format=json\",\"agency_id\":null,\"name\":\"Space Launch Complex 4E\",\"info_url\":null,\"wiki_url\":\"\",\"map_url\":\"http://maps.google.com/maps?q=34.632+N,+120.611+W\",\"latitude\":\"34.632\",\"longitude\":\"-120.611\",\"location\":{\"id\":11,\"url\":\"https://ll.thespacedevs.com/2.2.0/location/11/?format=json\",\"name\":\"Vandenberg SFB, CA, USA\",\"country_code\":\"USA\",\"map_image\":\"https://nyc3.digitaloceanspaces.com/spacelaunchnow-prod-east/media/launch_images/location_11_20200803142416.jpg\",\"total_launch_count\":702,\"total_landing_count\":6},\"map_image\":\"https://nyc3.digitalocean'"
      ]
     },
     "execution_count": 8,
     "metadata": {},
     "output_type": "execute_result"
    }
   ],
   "source": [
    "response.content[:2000]"
   ]
  },
  {
   "cell_type": "code",
   "execution_count": 9,
   "metadata": {},
   "outputs": [],
   "source": [
    "data = response.json()"
   ]
  },
  {
   "cell_type": "code",
   "execution_count": 10,
   "metadata": {},
   "outputs": [],
   "source": [
    "import time"
   ]
  },
  {
   "cell_type": "code",
   "execution_count": 11,
   "metadata": {},
   "outputs": [],
   "source": [
    "time.sleep(2)"
   ]
  },
  {
   "cell_type": "code",
   "execution_count": 13,
   "metadata": {},
   "outputs": [],
   "source": [
    "for offset in range(0, 300, 100):\n",
    "    params = {\n",
    "        \"format\": \"json\",\n",
    "        \"limit\": 100,\n",
    "        \"offset\": offset\n",
    "    }\n",
    "    requests.get(endpoint, params=params)\n",
    "    time.sleep(2)"
   ]
  },
  {
   "cell_type": "code",
   "execution_count": 14,
   "metadata": {},
   "outputs": [],
   "source": [
    "# next_url = data[\"next\"]\n",
    "# while next_url is not None:\n"
   ]
  },
  {
   "cell_type": "code",
   "execution_count": 15,
   "metadata": {},
   "outputs": [
    {
     "data": {
      "text/plain": [
       "list"
      ]
     },
     "execution_count": 15,
     "metadata": {},
     "output_type": "execute_result"
    }
   ],
   "source": [
    "result = data[\"results\"]\n",
    "type(result)"
   ]
  },
  {
   "cell_type": "code",
   "execution_count": 16,
   "metadata": {},
   "outputs": [],
   "source": [
    "import pandas as pd"
   ]
  },
  {
   "cell_type": "code",
   "execution_count": 17,
   "metadata": {},
   "outputs": [
    {
     "data": {
      "text/html": [
       "<div>\n",
       "<style scoped>\n",
       "    .dataframe tbody tr th:only-of-type {\n",
       "        vertical-align: middle;\n",
       "    }\n",
       "\n",
       "    .dataframe tbody tr th {\n",
       "        vertical-align: top;\n",
       "    }\n",
       "\n",
       "    .dataframe thead th {\n",
       "        text-align: right;\n",
       "    }\n",
       "</style>\n",
       "<table border=\"1\" class=\"dataframe\">\n",
       "  <thead>\n",
       "    <tr style=\"text-align: right;\">\n",
       "      <th></th>\n",
       "      <th>id</th>\n",
       "      <th>url</th>\n",
       "      <th>slug</th>\n",
       "      <th>name</th>\n",
       "      <th>status</th>\n",
       "      <th>last_updated</th>\n",
       "      <th>net</th>\n",
       "      <th>window_end</th>\n",
       "      <th>window_start</th>\n",
       "      <th>probability</th>\n",
       "      <th>...</th>\n",
       "      <th>infographic</th>\n",
       "      <th>program</th>\n",
       "      <th>orbital_launch_attempt_count</th>\n",
       "      <th>location_launch_attempt_count</th>\n",
       "      <th>pad_launch_attempt_count</th>\n",
       "      <th>agency_launch_attempt_count</th>\n",
       "      <th>orbital_launch_attempt_count_year</th>\n",
       "      <th>location_launch_attempt_count_year</th>\n",
       "      <th>pad_launch_attempt_count_year</th>\n",
       "      <th>agency_launch_attempt_count_year</th>\n",
       "    </tr>\n",
       "  </thead>\n",
       "  <tbody>\n",
       "    <tr>\n",
       "      <th>0</th>\n",
       "      <td>576b04d6-1962-4bda-b43f-0da4138d192d</td>\n",
       "      <td>https://ll.thespacedevs.com/2.2.0/launch/576b0...</td>\n",
       "      <td>falcon-9-block-5-starlink-group-3-4</td>\n",
       "      <td>Falcon 9 Block 5 | Starlink Group 3-4</td>\n",
       "      <td>{'id': 3, 'name': 'Launch Successful', 'abbrev...</td>\n",
       "      <td>2022-08-31T06:57:21Z</td>\n",
       "      <td>2022-08-31T05:40:10Z</td>\n",
       "      <td>2022-08-31T05:40:10Z</td>\n",
       "      <td>2022-08-31T05:40:10Z</td>\n",
       "      <td>NaN</td>\n",
       "      <td>...</td>\n",
       "      <td>None</td>\n",
       "      <td>[]</td>\n",
       "      <td>6279.0</td>\n",
       "      <td>702</td>\n",
       "      <td>96</td>\n",
       "      <td>191</td>\n",
       "      <td>115.0</td>\n",
       "      <td>9</td>\n",
       "      <td>9</td>\n",
       "      <td>39</td>\n",
       "    </tr>\n",
       "    <tr>\n",
       "      <th>1</th>\n",
       "      <td>67158b3c-201d-4450-be8a-990010c05b40</td>\n",
       "      <td>https://ll.thespacedevs.com/2.2.0/launch/67158...</td>\n",
       "      <td>falcon-9-block-5-starlink-group-4-23</td>\n",
       "      <td>Falcon 9 Block 5 | Starlink Group 4-23</td>\n",
       "      <td>{'id': 3, 'name': 'Launch Successful', 'abbrev...</td>\n",
       "      <td>2022-08-31T03:19:23Z</td>\n",
       "      <td>2022-08-28T03:41:20Z</td>\n",
       "      <td>2022-08-28T03:41:20Z</td>\n",
       "      <td>2022-08-28T03:41:20Z</td>\n",
       "      <td>60.0</td>\n",
       "      <td>...</td>\n",
       "      <td>None</td>\n",
       "      <td>[]</td>\n",
       "      <td>6278.0</td>\n",
       "      <td>855</td>\n",
       "      <td>151</td>\n",
       "      <td>190</td>\n",
       "      <td>114.0</td>\n",
       "      <td>25</td>\n",
       "      <td>18</td>\n",
       "      <td>38</td>\n",
       "    </tr>\n",
       "    <tr>\n",
       "      <th>2</th>\n",
       "      <td>a0d642d9-19ea-487d-8821-40c6f83e712f</td>\n",
       "      <td>https://ll.thespacedevs.com/2.2.0/launch/a0d64...</td>\n",
       "      <td>long-march-2d-beijing-3b</td>\n",
       "      <td>Long March 2D | Beijing-3B</td>\n",
       "      <td>{'id': 3, 'name': 'Launch Successful', 'abbrev...</td>\n",
       "      <td>2022-08-31T03:35:50Z</td>\n",
       "      <td>2022-08-24T03:01:00Z</td>\n",
       "      <td>2022-08-24T03:31:00Z</td>\n",
       "      <td>2022-08-24T02:53:00Z</td>\n",
       "      <td>NaN</td>\n",
       "      <td>...</td>\n",
       "      <td>None</td>\n",
       "      <td>[]</td>\n",
       "      <td>6277.0</td>\n",
       "      <td>112</td>\n",
       "      <td>37</td>\n",
       "      <td>382</td>\n",
       "      <td>113.0</td>\n",
       "      <td>8</td>\n",
       "      <td>6</td>\n",
       "      <td>29</td>\n",
       "    </tr>\n",
       "    <tr>\n",
       "      <th>3</th>\n",
       "      <td>5bdce7b6-0b8f-4df3-979e-3560654f9fe2</td>\n",
       "      <td>https://ll.thespacedevs.com/2.2.0/launch/5bdce...</td>\n",
       "      <td>kuaizhou-1a-chuangxin-16</td>\n",
       "      <td>Kuaizhou-1A | Chuangxin-16</td>\n",
       "      <td>{'id': 3, 'name': 'Launch Successful', 'abbrev...</td>\n",
       "      <td>2022-08-31T03:16:26Z</td>\n",
       "      <td>2022-08-23T02:36:00Z</td>\n",
       "      <td>2022-08-23T02:44:00Z</td>\n",
       "      <td>2022-08-23T02:24:00Z</td>\n",
       "      <td>NaN</td>\n",
       "      <td>...</td>\n",
       "      <td>None</td>\n",
       "      <td>[]</td>\n",
       "      <td>6276.0</td>\n",
       "      <td>175</td>\n",
       "      <td>21</td>\n",
       "      <td>17</td>\n",
       "      <td>112.0</td>\n",
       "      <td>8</td>\n",
       "      <td>1</td>\n",
       "      <td>2</td>\n",
       "    </tr>\n",
       "    <tr>\n",
       "      <th>4</th>\n",
       "      <td>4a114237-e8c5-4248-8d30-7a9026b86430</td>\n",
       "      <td>https://ll.thespacedevs.com/2.2.0/launch/4a114...</td>\n",
       "      <td>falcon-9-block-5-starlink-group-4-27</td>\n",
       "      <td>Falcon 9 Block 5 | Starlink Group 4-27</td>\n",
       "      <td>{'id': 3, 'name': 'Launch Successful', 'abbrev...</td>\n",
       "      <td>2022-08-31T03:11:43Z</td>\n",
       "      <td>2022-08-19T19:21:20Z</td>\n",
       "      <td>2022-08-19T19:21:20Z</td>\n",
       "      <td>2022-08-19T19:21:20Z</td>\n",
       "      <td>70.0</td>\n",
       "      <td>...</td>\n",
       "      <td>None</td>\n",
       "      <td>[]</td>\n",
       "      <td>6275.0</td>\n",
       "      <td>854</td>\n",
       "      <td>150</td>\n",
       "      <td>189</td>\n",
       "      <td>111.0</td>\n",
       "      <td>24</td>\n",
       "      <td>17</td>\n",
       "      <td>37</td>\n",
       "    </tr>\n",
       "  </tbody>\n",
       "</table>\n",
       "<p>5 rows × 29 columns</p>\n",
       "</div>"
      ],
      "text/plain": [
       "                                     id  \\\n",
       "0  576b04d6-1962-4bda-b43f-0da4138d192d   \n",
       "1  67158b3c-201d-4450-be8a-990010c05b40   \n",
       "2  a0d642d9-19ea-487d-8821-40c6f83e712f   \n",
       "3  5bdce7b6-0b8f-4df3-979e-3560654f9fe2   \n",
       "4  4a114237-e8c5-4248-8d30-7a9026b86430   \n",
       "\n",
       "                                                 url  \\\n",
       "0  https://ll.thespacedevs.com/2.2.0/launch/576b0...   \n",
       "1  https://ll.thespacedevs.com/2.2.0/launch/67158...   \n",
       "2  https://ll.thespacedevs.com/2.2.0/launch/a0d64...   \n",
       "3  https://ll.thespacedevs.com/2.2.0/launch/5bdce...   \n",
       "4  https://ll.thespacedevs.com/2.2.0/launch/4a114...   \n",
       "\n",
       "                                   slug  \\\n",
       "0   falcon-9-block-5-starlink-group-3-4   \n",
       "1  falcon-9-block-5-starlink-group-4-23   \n",
       "2              long-march-2d-beijing-3b   \n",
       "3              kuaizhou-1a-chuangxin-16   \n",
       "4  falcon-9-block-5-starlink-group-4-27   \n",
       "\n",
       "                                     name  \\\n",
       "0   Falcon 9 Block 5 | Starlink Group 3-4   \n",
       "1  Falcon 9 Block 5 | Starlink Group 4-23   \n",
       "2              Long March 2D | Beijing-3B   \n",
       "3              Kuaizhou-1A | Chuangxin-16   \n",
       "4  Falcon 9 Block 5 | Starlink Group 4-27   \n",
       "\n",
       "                                              status          last_updated  \\\n",
       "0  {'id': 3, 'name': 'Launch Successful', 'abbrev...  2022-08-31T06:57:21Z   \n",
       "1  {'id': 3, 'name': 'Launch Successful', 'abbrev...  2022-08-31T03:19:23Z   \n",
       "2  {'id': 3, 'name': 'Launch Successful', 'abbrev...  2022-08-31T03:35:50Z   \n",
       "3  {'id': 3, 'name': 'Launch Successful', 'abbrev...  2022-08-31T03:16:26Z   \n",
       "4  {'id': 3, 'name': 'Launch Successful', 'abbrev...  2022-08-31T03:11:43Z   \n",
       "\n",
       "                    net            window_end          window_start  \\\n",
       "0  2022-08-31T05:40:10Z  2022-08-31T05:40:10Z  2022-08-31T05:40:10Z   \n",
       "1  2022-08-28T03:41:20Z  2022-08-28T03:41:20Z  2022-08-28T03:41:20Z   \n",
       "2  2022-08-24T03:01:00Z  2022-08-24T03:31:00Z  2022-08-24T02:53:00Z   \n",
       "3  2022-08-23T02:36:00Z  2022-08-23T02:44:00Z  2022-08-23T02:24:00Z   \n",
       "4  2022-08-19T19:21:20Z  2022-08-19T19:21:20Z  2022-08-19T19:21:20Z   \n",
       "\n",
       "   probability  ... infographic program orbital_launch_attempt_count  \\\n",
       "0          NaN  ...        None      []                       6279.0   \n",
       "1         60.0  ...        None      []                       6278.0   \n",
       "2          NaN  ...        None      []                       6277.0   \n",
       "3          NaN  ...        None      []                       6276.0   \n",
       "4         70.0  ...        None      []                       6275.0   \n",
       "\n",
       "  location_launch_attempt_count pad_launch_attempt_count  \\\n",
       "0                           702                       96   \n",
       "1                           855                      151   \n",
       "2                           112                       37   \n",
       "3                           175                       21   \n",
       "4                           854                      150   \n",
       "\n",
       "  agency_launch_attempt_count orbital_launch_attempt_count_year  \\\n",
       "0                         191                             115.0   \n",
       "1                         190                             114.0   \n",
       "2                         382                             113.0   \n",
       "3                          17                             112.0   \n",
       "4                         189                             111.0   \n",
       "\n",
       "   location_launch_attempt_count_year pad_launch_attempt_count_year  \\\n",
       "0                                   9                             9   \n",
       "1                                  25                            18   \n",
       "2                                   8                             6   \n",
       "3                                   8                             1   \n",
       "4                                  24                            17   \n",
       "\n",
       "  agency_launch_attempt_count_year  \n",
       "0                               39  \n",
       "1                               38  \n",
       "2                               29  \n",
       "3                                2  \n",
       "4                               37  \n",
       "\n",
       "[5 rows x 29 columns]"
      ]
     },
     "execution_count": 17,
     "metadata": {},
     "output_type": "execute_result"
    }
   ],
   "source": [
    "df = pd.DataFrame(result)\n",
    "df.head()"
   ]
  },
  {
   "cell_type": "code",
   "execution_count": 18,
   "metadata": {},
   "outputs": [
    {
     "data": {
      "text/html": [
       "<div>\n",
       "<style scoped>\n",
       "    .dataframe tbody tr th:only-of-type {\n",
       "        vertical-align: middle;\n",
       "    }\n",
       "\n",
       "    .dataframe tbody tr th {\n",
       "        vertical-align: top;\n",
       "    }\n",
       "\n",
       "    .dataframe thead th {\n",
       "        text-align: right;\n",
       "    }\n",
       "</style>\n",
       "<table border=\"1\" class=\"dataframe\">\n",
       "  <thead>\n",
       "    <tr style=\"text-align: right;\">\n",
       "      <th></th>\n",
       "      <th>id</th>\n",
       "      <th>url</th>\n",
       "      <th>slug</th>\n",
       "      <th>name</th>\n",
       "      <th>last_updated</th>\n",
       "      <th>net</th>\n",
       "      <th>window_end</th>\n",
       "      <th>window_start</th>\n",
       "      <th>probability</th>\n",
       "      <th>holdreason</th>\n",
       "      <th>...</th>\n",
       "      <th>pad.location.url</th>\n",
       "      <th>pad.location.name</th>\n",
       "      <th>pad.location.country_code</th>\n",
       "      <th>pad.location.map_image</th>\n",
       "      <th>pad.location.total_launch_count</th>\n",
       "      <th>pad.location.total_landing_count</th>\n",
       "      <th>pad.map_image</th>\n",
       "      <th>pad.total_launch_count</th>\n",
       "      <th>pad.orbital_launch_attempt_count</th>\n",
       "      <th>mission</th>\n",
       "    </tr>\n",
       "  </thead>\n",
       "  <tbody>\n",
       "    <tr>\n",
       "      <th>0</th>\n",
       "      <td>576b04d6-1962-4bda-b43f-0da4138d192d</td>\n",
       "      <td>https://ll.thespacedevs.com/2.2.0/launch/576b0...</td>\n",
       "      <td>falcon-9-block-5-starlink-group-3-4</td>\n",
       "      <td>Falcon 9 Block 5 | Starlink Group 3-4</td>\n",
       "      <td>2022-08-31T06:57:21Z</td>\n",
       "      <td>2022-08-31T05:40:10Z</td>\n",
       "      <td>2022-08-31T05:40:10Z</td>\n",
       "      <td>2022-08-31T05:40:10Z</td>\n",
       "      <td>NaN</td>\n",
       "      <td></td>\n",
       "      <td>...</td>\n",
       "      <td>https://ll.thespacedevs.com/2.2.0/location/11/...</td>\n",
       "      <td>Vandenberg SFB, CA, USA</td>\n",
       "      <td>USA</td>\n",
       "      <td>https://nyc3.digitaloceanspaces.com/spacelaunc...</td>\n",
       "      <td>702</td>\n",
       "      <td>6</td>\n",
       "      <td>https://nyc3.digitaloceanspaces.com/spacelaunc...</td>\n",
       "      <td>96</td>\n",
       "      <td>96</td>\n",
       "      <td>NaN</td>\n",
       "    </tr>\n",
       "    <tr>\n",
       "      <th>1</th>\n",
       "      <td>67158b3c-201d-4450-be8a-990010c05b40</td>\n",
       "      <td>https://ll.thespacedevs.com/2.2.0/launch/67158...</td>\n",
       "      <td>falcon-9-block-5-starlink-group-4-23</td>\n",
       "      <td>Falcon 9 Block 5 | Starlink Group 4-23</td>\n",
       "      <td>2022-08-31T03:19:23Z</td>\n",
       "      <td>2022-08-28T03:41:20Z</td>\n",
       "      <td>2022-08-28T03:41:20Z</td>\n",
       "      <td>2022-08-28T03:41:20Z</td>\n",
       "      <td>60.0</td>\n",
       "      <td></td>\n",
       "      <td>...</td>\n",
       "      <td>https://ll.thespacedevs.com/2.2.0/location/12/...</td>\n",
       "      <td>Cape Canaveral, FL, USA</td>\n",
       "      <td>USA</td>\n",
       "      <td>https://nyc3.digitaloceanspaces.com/spacelaunc...</td>\n",
       "      <td>855</td>\n",
       "      <td>24</td>\n",
       "      <td>https://nyc3.digitaloceanspaces.com/spacelaunc...</td>\n",
       "      <td>151</td>\n",
       "      <td>150</td>\n",
       "      <td>NaN</td>\n",
       "    </tr>\n",
       "    <tr>\n",
       "      <th>2</th>\n",
       "      <td>a0d642d9-19ea-487d-8821-40c6f83e712f</td>\n",
       "      <td>https://ll.thespacedevs.com/2.2.0/launch/a0d64...</td>\n",
       "      <td>long-march-2d-beijing-3b</td>\n",
       "      <td>Long March 2D | Beijing-3B</td>\n",
       "      <td>2022-08-31T03:35:50Z</td>\n",
       "      <td>2022-08-24T03:01:00Z</td>\n",
       "      <td>2022-08-24T03:31:00Z</td>\n",
       "      <td>2022-08-24T02:53:00Z</td>\n",
       "      <td>NaN</td>\n",
       "      <td></td>\n",
       "      <td>...</td>\n",
       "      <td>https://ll.thespacedevs.com/2.2.0/location/19/...</td>\n",
       "      <td>Taiyuan, People's Republic of China</td>\n",
       "      <td>CHN</td>\n",
       "      <td>https://nyc3.digitaloceanspaces.com/spacelaunc...</td>\n",
       "      <td>112</td>\n",
       "      <td>0</td>\n",
       "      <td>https://nyc3.digitaloceanspaces.com/spacelaunc...</td>\n",
       "      <td>37</td>\n",
       "      <td>37</td>\n",
       "      <td>NaN</td>\n",
       "    </tr>\n",
       "    <tr>\n",
       "      <th>3</th>\n",
       "      <td>5bdce7b6-0b8f-4df3-979e-3560654f9fe2</td>\n",
       "      <td>https://ll.thespacedevs.com/2.2.0/launch/5bdce...</td>\n",
       "      <td>kuaizhou-1a-chuangxin-16</td>\n",
       "      <td>Kuaizhou-1A | Chuangxin-16</td>\n",
       "      <td>2022-08-31T03:16:26Z</td>\n",
       "      <td>2022-08-23T02:36:00Z</td>\n",
       "      <td>2022-08-23T02:44:00Z</td>\n",
       "      <td>2022-08-23T02:24:00Z</td>\n",
       "      <td>NaN</td>\n",
       "      <td></td>\n",
       "      <td>...</td>\n",
       "      <td>https://ll.thespacedevs.com/2.2.0/location/16/...</td>\n",
       "      <td>Xichang Satellite Launch Center, People's Repu...</td>\n",
       "      <td>CHN</td>\n",
       "      <td>https://nyc3.digitaloceanspaces.com/spacelaunc...</td>\n",
       "      <td>175</td>\n",
       "      <td>0</td>\n",
       "      <td>https://nyc3.digitaloceanspaces.com/spacelaunc...</td>\n",
       "      <td>21</td>\n",
       "      <td>21</td>\n",
       "      <td>NaN</td>\n",
       "    </tr>\n",
       "    <tr>\n",
       "      <th>4</th>\n",
       "      <td>4a114237-e8c5-4248-8d30-7a9026b86430</td>\n",
       "      <td>https://ll.thespacedevs.com/2.2.0/launch/4a114...</td>\n",
       "      <td>falcon-9-block-5-starlink-group-4-27</td>\n",
       "      <td>Falcon 9 Block 5 | Starlink Group 4-27</td>\n",
       "      <td>2022-08-31T03:11:43Z</td>\n",
       "      <td>2022-08-19T19:21:20Z</td>\n",
       "      <td>2022-08-19T19:21:20Z</td>\n",
       "      <td>2022-08-19T19:21:20Z</td>\n",
       "      <td>70.0</td>\n",
       "      <td></td>\n",
       "      <td>...</td>\n",
       "      <td>https://ll.thespacedevs.com/2.2.0/location/12/...</td>\n",
       "      <td>Cape Canaveral, FL, USA</td>\n",
       "      <td>USA</td>\n",
       "      <td>https://nyc3.digitaloceanspaces.com/spacelaunc...</td>\n",
       "      <td>855</td>\n",
       "      <td>24</td>\n",
       "      <td>https://nyc3.digitaloceanspaces.com/spacelaunc...</td>\n",
       "      <td>151</td>\n",
       "      <td>150</td>\n",
       "      <td>NaN</td>\n",
       "    </tr>\n",
       "  </tbody>\n",
       "</table>\n",
       "<p>5 rows × 67 columns</p>\n",
       "</div>"
      ],
      "text/plain": [
       "                                     id  \\\n",
       "0  576b04d6-1962-4bda-b43f-0da4138d192d   \n",
       "1  67158b3c-201d-4450-be8a-990010c05b40   \n",
       "2  a0d642d9-19ea-487d-8821-40c6f83e712f   \n",
       "3  5bdce7b6-0b8f-4df3-979e-3560654f9fe2   \n",
       "4  4a114237-e8c5-4248-8d30-7a9026b86430   \n",
       "\n",
       "                                                 url  \\\n",
       "0  https://ll.thespacedevs.com/2.2.0/launch/576b0...   \n",
       "1  https://ll.thespacedevs.com/2.2.0/launch/67158...   \n",
       "2  https://ll.thespacedevs.com/2.2.0/launch/a0d64...   \n",
       "3  https://ll.thespacedevs.com/2.2.0/launch/5bdce...   \n",
       "4  https://ll.thespacedevs.com/2.2.0/launch/4a114...   \n",
       "\n",
       "                                   slug  \\\n",
       "0   falcon-9-block-5-starlink-group-3-4   \n",
       "1  falcon-9-block-5-starlink-group-4-23   \n",
       "2              long-march-2d-beijing-3b   \n",
       "3              kuaizhou-1a-chuangxin-16   \n",
       "4  falcon-9-block-5-starlink-group-4-27   \n",
       "\n",
       "                                     name          last_updated  \\\n",
       "0   Falcon 9 Block 5 | Starlink Group 3-4  2022-08-31T06:57:21Z   \n",
       "1  Falcon 9 Block 5 | Starlink Group 4-23  2022-08-31T03:19:23Z   \n",
       "2              Long March 2D | Beijing-3B  2022-08-31T03:35:50Z   \n",
       "3              Kuaizhou-1A | Chuangxin-16  2022-08-31T03:16:26Z   \n",
       "4  Falcon 9 Block 5 | Starlink Group 4-27  2022-08-31T03:11:43Z   \n",
       "\n",
       "                    net            window_end          window_start  \\\n",
       "0  2022-08-31T05:40:10Z  2022-08-31T05:40:10Z  2022-08-31T05:40:10Z   \n",
       "1  2022-08-28T03:41:20Z  2022-08-28T03:41:20Z  2022-08-28T03:41:20Z   \n",
       "2  2022-08-24T03:01:00Z  2022-08-24T03:31:00Z  2022-08-24T02:53:00Z   \n",
       "3  2022-08-23T02:36:00Z  2022-08-23T02:44:00Z  2022-08-23T02:24:00Z   \n",
       "4  2022-08-19T19:21:20Z  2022-08-19T19:21:20Z  2022-08-19T19:21:20Z   \n",
       "\n",
       "   probability holdreason  ...  \\\n",
       "0          NaN             ...   \n",
       "1         60.0             ...   \n",
       "2          NaN             ...   \n",
       "3          NaN             ...   \n",
       "4         70.0             ...   \n",
       "\n",
       "                                    pad.location.url  \\\n",
       "0  https://ll.thespacedevs.com/2.2.0/location/11/...   \n",
       "1  https://ll.thespacedevs.com/2.2.0/location/12/...   \n",
       "2  https://ll.thespacedevs.com/2.2.0/location/19/...   \n",
       "3  https://ll.thespacedevs.com/2.2.0/location/16/...   \n",
       "4  https://ll.thespacedevs.com/2.2.0/location/12/...   \n",
       "\n",
       "                                   pad.location.name  \\\n",
       "0                            Vandenberg SFB, CA, USA   \n",
       "1                            Cape Canaveral, FL, USA   \n",
       "2                Taiyuan, People's Republic of China   \n",
       "3  Xichang Satellite Launch Center, People's Repu...   \n",
       "4                            Cape Canaveral, FL, USA   \n",
       "\n",
       "   pad.location.country_code  \\\n",
       "0                        USA   \n",
       "1                        USA   \n",
       "2                        CHN   \n",
       "3                        CHN   \n",
       "4                        USA   \n",
       "\n",
       "                              pad.location.map_image  \\\n",
       "0  https://nyc3.digitaloceanspaces.com/spacelaunc...   \n",
       "1  https://nyc3.digitaloceanspaces.com/spacelaunc...   \n",
       "2  https://nyc3.digitaloceanspaces.com/spacelaunc...   \n",
       "3  https://nyc3.digitaloceanspaces.com/spacelaunc...   \n",
       "4  https://nyc3.digitaloceanspaces.com/spacelaunc...   \n",
       "\n",
       "  pad.location.total_launch_count pad.location.total_landing_count  \\\n",
       "0                             702                                6   \n",
       "1                             855                               24   \n",
       "2                             112                                0   \n",
       "3                             175                                0   \n",
       "4                             855                               24   \n",
       "\n",
       "                                       pad.map_image  pad.total_launch_count  \\\n",
       "0  https://nyc3.digitaloceanspaces.com/spacelaunc...                      96   \n",
       "1  https://nyc3.digitaloceanspaces.com/spacelaunc...                     151   \n",
       "2  https://nyc3.digitaloceanspaces.com/spacelaunc...                      37   \n",
       "3  https://nyc3.digitaloceanspaces.com/spacelaunc...                      21   \n",
       "4  https://nyc3.digitaloceanspaces.com/spacelaunc...                     151   \n",
       "\n",
       "   pad.orbital_launch_attempt_count  mission  \n",
       "0                                96      NaN  \n",
       "1                               150      NaN  \n",
       "2                                37      NaN  \n",
       "3                                21      NaN  \n",
       "4                               150      NaN  \n",
       "\n",
       "[5 rows x 67 columns]"
      ]
     },
     "execution_count": 18,
     "metadata": {},
     "output_type": "execute_result"
    }
   ],
   "source": [
    "df_better = pd.json_normalize(result)\n",
    "df_better.head()\n"
   ]
  },
  {
   "cell_type": "code",
   "execution_count": 19,
   "metadata": {},
   "outputs": [
    {
     "data": {
      "text/plain": [
       "Index(['id', 'url', 'slug', 'name', 'status', 'last_updated', 'net',\n",
       "       'window_end', 'window_start', 'probability', 'holdreason', 'failreason',\n",
       "       'hashtag', 'launch_service_provider', 'rocket', 'mission', 'pad',\n",
       "       'webcast_live', 'image', 'infographic', 'program',\n",
       "       'orbital_launch_attempt_count', 'location_launch_attempt_count',\n",
       "       'pad_launch_attempt_count', 'agency_launch_attempt_count',\n",
       "       'orbital_launch_attempt_count_year',\n",
       "       'location_launch_attempt_count_year', 'pad_launch_attempt_count_year',\n",
       "       'agency_launch_attempt_count_year'],\n",
       "      dtype='object')"
      ]
     },
     "execution_count": 19,
     "metadata": {},
     "output_type": "execute_result"
    }
   ],
   "source": [
    "df.columns"
   ]
  },
  {
   "cell_type": "code",
   "execution_count": 20,
   "metadata": {},
   "outputs": [
    {
     "data": {
      "text/plain": [
       "Index(['id', 'url', 'slug', 'name', 'last_updated', 'net', 'window_end',\n",
       "       'window_start', 'probability', 'holdreason', 'failreason', 'hashtag',\n",
       "       'webcast_live', 'image', 'infographic', 'program',\n",
       "       'orbital_launch_attempt_count', 'location_launch_attempt_count',\n",
       "       'pad_launch_attempt_count', 'agency_launch_attempt_count',\n",
       "       'orbital_launch_attempt_count_year',\n",
       "       'location_launch_attempt_count_year', 'pad_launch_attempt_count_year',\n",
       "       'agency_launch_attempt_count_year', 'status.id', 'status.name',\n",
       "       'status.abbrev', 'status.description', 'launch_service_provider.id',\n",
       "       'launch_service_provider.url', 'launch_service_provider.name',\n",
       "       'launch_service_provider.type', 'rocket.id', 'rocket.configuration.id',\n",
       "       'rocket.configuration.url', 'rocket.configuration.name',\n",
       "       'rocket.configuration.family', 'rocket.configuration.full_name',\n",
       "       'rocket.configuration.variant', 'mission.id', 'mission.name',\n",
       "       'mission.description', 'mission.launch_designator', 'mission.type',\n",
       "       'mission.orbit.id', 'mission.orbit.name', 'mission.orbit.abbrev',\n",
       "       'pad.id', 'pad.url', 'pad.agency_id', 'pad.name', 'pad.info_url',\n",
       "       'pad.wiki_url', 'pad.map_url', 'pad.latitude', 'pad.longitude',\n",
       "       'pad.location.id', 'pad.location.url', 'pad.location.name',\n",
       "       'pad.location.country_code', 'pad.location.map_image',\n",
       "       'pad.location.total_launch_count', 'pad.location.total_landing_count',\n",
       "       'pad.map_image', 'pad.total_launch_count',\n",
       "       'pad.orbital_launch_attempt_count', 'mission'],\n",
       "      dtype='object')"
      ]
     },
     "execution_count": 20,
     "metadata": {},
     "output_type": "execute_result"
    }
   ],
   "source": [
    "df_better.columns"
   ]
  },
  {
   "cell_type": "code",
   "execution_count": 21,
   "metadata": {},
   "outputs": [
    {
     "data": {
      "text/plain": [
       "SpaceX                                                16\n",
       "China Aerospace Science and Technology Corporation    11\n",
       "Equatorial Launch Australia                            3\n",
       "Rocket Lab Ltd                                         3\n",
       "Indian Space Research Organization                     2\n",
       "United Launch Alliance                                 2\n",
       "Russian Space Forces                                   2\n",
       "ExPace                                                 2\n",
       "Galactic Energy                                        1\n",
       "Blue Origin                                            1\n",
       "Russian Federal Space Agency (ROSCOSMOS)               1\n",
       "CAS Space                                              1\n",
       "European Space Agency                                  1\n",
       "Virgin Orbit                                           1\n",
       "Arianespace                                            1\n",
       "Korea Aerospace Research Institute                     1\n",
       "Astra Space                                            1\n",
       "Name: launch_service_provider.name, dtype: int64"
      ]
     },
     "execution_count": 21,
     "metadata": {},
     "output_type": "execute_result"
    }
   ],
   "source": [
    "df_better[\"launch_service_provider.name\"].value_counts()"
   ]
  },
  {
   "cell_type": "code",
   "execution_count": 22,
   "metadata": {},
   "outputs": [
    {
     "data": {
      "text/plain": [
       "0     2022-08-31T05:40:10Z\n",
       "1     2022-08-28T03:41:20Z\n",
       "2     2022-08-24T02:53:00Z\n",
       "3     2022-08-23T02:24:00Z\n",
       "4     2022-08-19T19:21:20Z\n",
       "5     2022-08-19T17:26:00Z\n",
       "6     2022-08-12T21:40:20Z\n",
       "7     2022-08-10T04:43:00Z\n",
       "8     2022-08-10T02:14:00Z\n",
       "9     2022-08-09T05:52:38Z\n",
       "10    2022-08-09T03:56:00Z\n",
       "11    2022-08-07T03:48:00Z\n",
       "12    2022-08-04T23:08:00Z\n",
       "13    2022-08-04T15:52:00Z\n",
       "14    2022-08-04T13:30:00Z\n",
       "15    2022-08-04T10:29:00Z\n",
       "16    2022-08-04T05:00:00Z\n",
       "17    2022-08-04T03:00:00Z\n",
       "18    2022-08-01T20:00:00Z\n",
       "19    2022-07-29T13:16:00Z\n",
       "20    2022-07-27T04:00:00Z\n",
       "21    2022-07-24T13:38:00Z\n",
       "22    2022-07-24T06:12:00Z\n",
       "23    2022-07-22T17:39:40Z\n",
       "24    2022-07-17T14:20:00Z\n",
       "25    2022-07-15T22:43:00Z\n",
       "26    2022-07-15T00:44:20Z\n",
       "27    2022-07-13T13:13:17Z\n",
       "28    2022-07-13T05:00:00Z\n",
       "29    2022-07-12T16:19:00Z\n",
       "30    2022-07-11T10:57:00Z\n",
       "31    2022-07-11T01:39:40Z\n",
       "32    2022-07-07T13:11:00Z\n",
       "33    2022-07-07T08:00:00Z\n",
       "34    2022-07-06T13:54:00Z\n",
       "35    2022-07-02T05:00:00Z\n",
       "36    2022-07-01T22:00:00Z\n",
       "37    2022-06-30T12:32:00Z\n",
       "38    2022-06-29T21:04:00Z\n",
       "39    2022-06-28T09:55:52Z\n",
       "40    2022-06-27T15:37:00Z\n",
       "41    2022-06-26T13:14:00Z\n",
       "42    2022-06-23T02:11:00Z\n",
       "43    2022-06-22T21:03:00Z\n",
       "44    2022-06-22T02:08:00Z\n",
       "45    2022-06-21T06:00:00Z\n",
       "46    2022-06-19T04:27:00Z\n",
       "47    2022-06-18T14:19:00Z\n",
       "48    2022-06-17T16:09:20Z\n",
       "49    2022-06-12T16:00:00Z\n",
       "Name: window_start, dtype: object"
      ]
     },
     "execution_count": 22,
     "metadata": {},
     "output_type": "execute_result"
    }
   ],
   "source": [
    "df_better[\"window_start\"]"
   ]
  }
 ],
 "metadata": {
  "kernelspec": {
   "display_name": "Python 3.10.5 ('pp4rs')",
   "language": "python",
   "name": "python3"
  },
  "language_info": {
   "codemirror_mode": {
    "name": "ipython",
    "version": 3
   },
   "file_extension": ".py",
   "mimetype": "text/x-python",
   "name": "python",
   "nbconvert_exporter": "python",
   "pygments_lexer": "ipython3",
   "version": "3.10.5"
  },
  "orig_nbformat": 4,
  "vscode": {
   "interpreter": {
    "hash": "204a59bdf7ab3655ff6dbdb363532740c60bcf276a7168fbd8477e399c47426b"
   }
  }
 },
 "nbformat": 4,
 "nbformat_minor": 2
}
