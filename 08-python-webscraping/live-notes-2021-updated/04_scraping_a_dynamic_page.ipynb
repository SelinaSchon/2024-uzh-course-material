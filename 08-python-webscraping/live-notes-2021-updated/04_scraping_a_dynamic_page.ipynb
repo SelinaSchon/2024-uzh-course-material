{
 "cells": [
  {
   "cell_type": "code",
   "execution_count": 1,
   "metadata": {},
   "outputs": [],
   "source": [
    "import requests"
   ]
  },
  {
   "cell_type": "code",
   "execution_count": 2,
   "metadata": {},
   "outputs": [
    {
     "data": {
      "text/plain": [
       "200"
      ]
     },
     "execution_count": 2,
     "metadata": {},
     "output_type": "execute_result"
    }
   ],
   "source": [
    "response = requests.get(\"https://www.topuniversities.com/university-rankings/world-university-rankings/2022\")\n",
    "response.status_code"
   ]
  },
  {
   "cell_type": "code",
   "execution_count": 3,
   "metadata": {},
   "outputs": [
    {
     "data": {
      "text/plain": [
       "b'\\n<!DOCTYPE html>\\n<html lang=\"en\" dir=\"ltr\" prefix=\"content: http://purl.org/rss/1.0/modules/content/  dc: http://purl.org/dc/terms/  foaf: http://xmlns.com/foaf/0.1/  og: http://ogp.me/ns#  rdfs: http://www.w3.org/2000/01/rdf-schema#  schema: http://schema.org/  sioc: http://rdfs.org/sioc/ns#  sioct: http://rdfs.org/sioc/types#  skos: http://www.w3.org/2004/02/skos/core#  xsd: http://www.w3.org/2001/XMLSchema# \">\\n<head attr=\\'https://www.topuniversities.com/\\'>\\n<script>\\n    function setCookieTUTM(cname, cvalue, exdays) {\\n      const d = new Date();\\n      d.setTime(d.getTime() + (exdays*24*60*60*1000));\\n      let expires = \"expires=\"+ d.toUTCString();\\n      document.cookie = cname + \"=\" + cvalue + \";\" + expires + \";path=/\";\\n    }\\n    function getCookieTUTM(cname) {\\n      let name = cname + \"=\";\\n      let decodedCookie = decodeURIComponent(document.cookie);\\n      let ca = decodedCookie.split(\\';\\');\\n      for(let i = 0; i <ca.length; i++) {\\n        let c = ca[i];\\n        while (c.charAt(0) == \\' \\') {\\n          c = c.substring(1);\\n        }\\n        if (c.indexOf(name) == 0) {\\n          return c.substring(name.length, c.length);\\n        }\\n      }\\n      return \"\";\\n    }\\n    let UUID = \\'\\';\\n    if( getCookieTUTM(\"STYXKEY-globaluserUUID\") !== undefined &&\\n      getCookieTUTM(\"STYXKEY-globaluserUUID\") !== null ){\\n       UUID =  getCookieTUTM(\"STYXKEY-globaluserUUID\");\\n    }else{\\n      let randomnos = Math.floor(Math.random() *  99999999);\\n      let currenttimestamp = new Date().getTime();\\n      UUID = `Top Universities-${currenttimestamp}-${randomnos}`;\\n      setCookieTUTM(\"STYXKEY-globaluserUUID\", UUID, 1);\\n    }\\n      dataLayer = [{\\n          \\'event\\': \\'UserStatus\\',\\n          \\'userID\\': UUID,\\n          \\'user_status\\': \\'loggedOut\\'\\n      }];\\n    </script>\\n<script>(function(w,d,s,l,i){w[l]=w[l]||[];w[l].push(\\n\\n  {\\'gtm.start\\': new Date().getTime(),event:\\'gtm.js\\'}\\n  );var f=d.getElementsByTagName(s)[0],\\n  j=d.createElement(s),dl=l!=\\'dataLayer\\'?\\'&l=\\'+l:\\'\\';j.async=true;j.src=\\n  \\'https://'"
      ]
     },
     "execution_count": 3,
     "metadata": {},
     "output_type": "execute_result"
    }
   ],
   "source": [
    "response.content[:2000]"
   ]
  },
  {
   "cell_type": "code",
   "execution_count": 4,
   "metadata": {},
   "outputs": [],
   "source": [
    "import bs4\n",
    "soup = bs4.BeautifulSoup(response.content)"
   ]
  },
  {
   "cell_type": "code",
   "execution_count": 5,
   "metadata": {},
   "outputs": [],
   "source": [
    "data_div = soup.find(\"div\", id='ranking-fillters-div')"
   ]
  },
  {
   "cell_type": "code",
   "execution_count": 6,
   "metadata": {},
   "outputs": [
    {
     "data": {
      "text/plain": [
       "[]"
      ]
     },
     "execution_count": 6,
     "metadata": {},
     "output_type": "execute_result"
    }
   ],
   "source": [
    "data_div.find_all(\"div\", class_=\"_qs-ranking-data-row\")"
   ]
  },
  {
   "cell_type": "code",
   "execution_count": 7,
   "metadata": {},
   "outputs": [],
   "source": [
    "with open(\"qs_rankings.html\", \"wb\") as file:\n",
    "    file.write(response.content)"
   ]
  },
  {
   "cell_type": "code",
   "execution_count": 8,
   "metadata": {},
   "outputs": [
    {
     "data": {
      "text/plain": [
       "'/home/martin/mambaforge/envs/pp4rs/lib/python3.10/site-packages/chromedriver_autoinstaller/103/chromedriver'"
      ]
     },
     "execution_count": 8,
     "metadata": {},
     "output_type": "execute_result"
    }
   ],
   "source": [
    "from selenium import webdriver\n",
    "import chromedriver_autoinstaller\n",
    "chromedriver_autoinstaller.install()"
   ]
  },
  {
   "cell_type": "code",
   "execution_count": 9,
   "metadata": {},
   "outputs": [],
   "source": [
    "import time"
   ]
  },
  {
   "cell_type": "code",
   "execution_count": 10,
   "metadata": {},
   "outputs": [],
   "source": [
    "browser = webdriver.Chrome()\n",
    "browser.set_window_size(1600, 900)"
   ]
  },
  {
   "cell_type": "code",
   "execution_count": 11,
   "metadata": {},
   "outputs": [
    {
     "data": {
      "text/plain": [
       "selenium.webdriver.chrome.webdriver.WebDriver"
      ]
     },
     "execution_count": 11,
     "metadata": {},
     "output_type": "execute_result"
    }
   ],
   "source": [
    "type(browser)"
   ]
  },
  {
   "cell_type": "code",
   "execution_count": 12,
   "metadata": {},
   "outputs": [],
   "source": [
    "browser.get(\"https://www.topuniversities.com/university-rankings/world-university-rankings/2022\")\n",
    "time.sleep(5)\n"
   ]
  },
  {
   "cell_type": "code",
   "execution_count": 13,
   "metadata": {},
   "outputs": [],
   "source": [
    "soup = bs4.BeautifulSoup(browser.page_source)"
   ]
  },
  {
   "cell_type": "code",
   "execution_count": 14,
   "metadata": {},
   "outputs": [
    {
     "data": {
      "text/plain": [
       "10"
      ]
     },
     "execution_count": 14,
     "metadata": {},
     "output_type": "execute_result"
    }
   ],
   "source": [
    "len(soup.find_all(\"div\", class_=\"_qs-ranking-data-row\"))"
   ]
  },
  {
   "cell_type": "code",
   "execution_count": 15,
   "metadata": {},
   "outputs": [
    {
     "data": {
      "text/plain": [
       "10"
      ]
     },
     "execution_count": 15,
     "metadata": {},
     "output_type": "execute_result"
    }
   ],
   "source": [
    "rows = soup.find_all(\"div\", class_=\"_qs-ranking-data-row\")\n",
    "len(rows)"
   ]
  },
  {
   "cell_type": "code",
   "execution_count": 16,
   "metadata": {},
   "outputs": [],
   "source": [
    "import pandas as pd\n",
    "\n",
    "def parse_page(soup):\n",
    "\n",
    "    rows = soup.find_all(\"div\", class_=\"_qs-ranking-data-row\")\n",
    "\n",
    "    data = []\n",
    "\n",
    "    for row in rows:\n",
    "        rank = row.find(\"div\", class_=\"_univ-rank\")\n",
    "        name = row.find(\"a\", class_=\"uni-link\")\n",
    "        score = row.find(\"span\", class_=\"overall-score-span\")\n",
    "\n",
    "        row_data = {\n",
    "            \"rank\": rank.text,\n",
    "            \"name\": name.text,\n",
    "            \"score\": score.text\n",
    "        }\n",
    "\n",
    "        data.append(row_data)\n",
    "\n",
    "    return pd.DataFrame(data)"
   ]
  },
  {
   "cell_type": "code",
   "execution_count": 17,
   "metadata": {},
   "outputs": [
    {
     "data": {
      "text/html": [
       "<div>\n",
       "<style scoped>\n",
       "    .dataframe tbody tr th:only-of-type {\n",
       "        vertical-align: middle;\n",
       "    }\n",
       "\n",
       "    .dataframe tbody tr th {\n",
       "        vertical-align: top;\n",
       "    }\n",
       "\n",
       "    .dataframe thead th {\n",
       "        text-align: right;\n",
       "    }\n",
       "</style>\n",
       "<table border=\"1\" class=\"dataframe\">\n",
       "  <thead>\n",
       "    <tr style=\"text-align: right;\">\n",
       "      <th></th>\n",
       "      <th>rank</th>\n",
       "      <th>name</th>\n",
       "      <th>score</th>\n",
       "    </tr>\n",
       "  </thead>\n",
       "  <tbody>\n",
       "    <tr>\n",
       "      <th>0</th>\n",
       "      <td>1</td>\n",
       "      <td>Massachusetts Institute of Technology (MIT)</td>\n",
       "      <td>100</td>\n",
       "    </tr>\n",
       "    <tr>\n",
       "      <th>1</th>\n",
       "      <td>2</td>\n",
       "      <td>University of Oxford</td>\n",
       "      <td>99.5</td>\n",
       "    </tr>\n",
       "    <tr>\n",
       "      <th>2</th>\n",
       "      <td>=3</td>\n",
       "      <td>Stanford University</td>\n",
       "      <td>98.7</td>\n",
       "    </tr>\n",
       "    <tr>\n",
       "      <th>3</th>\n",
       "      <td>=3</td>\n",
       "      <td>University of Cambridge</td>\n",
       "      <td>98.7</td>\n",
       "    </tr>\n",
       "    <tr>\n",
       "      <th>4</th>\n",
       "      <td>5</td>\n",
       "      <td>Harvard University</td>\n",
       "      <td>98</td>\n",
       "    </tr>\n",
       "    <tr>\n",
       "      <th>5</th>\n",
       "      <td>6</td>\n",
       "      <td>California Institute of Technology (Caltech)</td>\n",
       "      <td>97.4</td>\n",
       "    </tr>\n",
       "    <tr>\n",
       "      <th>6</th>\n",
       "      <td>7</td>\n",
       "      <td>Imperial College London</td>\n",
       "      <td>97.3</td>\n",
       "    </tr>\n",
       "    <tr>\n",
       "      <th>7</th>\n",
       "      <td>=8</td>\n",
       "      <td>ETH Zurich</td>\n",
       "      <td>95.4</td>\n",
       "    </tr>\n",
       "    <tr>\n",
       "      <th>8</th>\n",
       "      <td>=8</td>\n",
       "      <td>UCL</td>\n",
       "      <td>95.4</td>\n",
       "    </tr>\n",
       "    <tr>\n",
       "      <th>9</th>\n",
       "      <td>10</td>\n",
       "      <td>University of Chicago</td>\n",
       "      <td>94.5</td>\n",
       "    </tr>\n",
       "  </tbody>\n",
       "</table>\n",
       "</div>"
      ],
      "text/plain": [
       "  rank                                          name   score\n",
       "0    1  Massachusetts Institute of Technology (MIT)     100 \n",
       "1    2                          University of Oxford   99.5 \n",
       "2   =3                           Stanford University   98.7 \n",
       "3   =3                       University of Cambridge   98.7 \n",
       "4    5                            Harvard University     98 \n",
       "5    6  California Institute of Technology (Caltech)   97.4 \n",
       "6    7                       Imperial College London   97.3 \n",
       "7   =8                                    ETH Zurich   95.4 \n",
       "8   =8                                           UCL   95.4 \n",
       "9   10                         University of Chicago   94.5 "
      ]
     },
     "execution_count": 17,
     "metadata": {},
     "output_type": "execute_result"
    }
   ],
   "source": [
    "parse_page(soup)"
   ]
  },
  {
   "cell_type": "code",
   "execution_count": 18,
   "metadata": {},
   "outputs": [],
   "source": [
    "browser = webdriver.Chrome()\n",
    "browser.set_window_size(1600, 900)\n",
    "browser.get(\"https://www.topuniversities.com/university-rankings/world-university-rankings/2022\")\n",
    "time.sleep(5)"
   ]
  },
  {
   "cell_type": "code",
   "execution_count": 19,
   "metadata": {},
   "outputs": [],
   "source": [
    "from selenium.webdriver.common.by import By\n",
    "gdpr_button = browser.find_element(By.CSS_SELECTOR, \"button.agree-button.eu-cookie-compliance-default-button\")\n",
    "gdpr_button.click()\n",
    "time.sleep(1)"
   ]
  },
  {
   "cell_type": "code",
   "execution_count": 20,
   "metadata": {},
   "outputs": [],
   "source": [
    "from selenium.common.exceptions import NoSuchElementException, ElementNotInteractableException\n",
    "\n",
    "try:\n",
    "    clear_button = browser.find_element(By.CSS_SELECTOR, \"div.no-ranking-results-found\") \\\n",
    "        .find_element(By.TAG_NAME, \"a\")\n",
    "    clear_button.click()\n",
    "    time.sleep(1)\n",
    "except (NoSuchElementException, ElementNotInteractableException):\n",
    "    pass"
   ]
  },
  {
   "cell_type": "code",
   "execution_count": 21,
   "metadata": {},
   "outputs": [],
   "source": [
    "next_button = browser.find_element(By.CSS_SELECTOR, \"a.page-link.next\")\n",
    "next_button.click()"
   ]
  }
 ],
 "metadata": {
  "kernelspec": {
   "display_name": "Python 3.10.5 ('pp4rs')",
   "language": "python",
   "name": "python3"
  },
  "language_info": {
   "codemirror_mode": {
    "name": "ipython",
    "version": 3
   },
   "file_extension": ".py",
   "mimetype": "text/x-python",
   "name": "python",
   "nbconvert_exporter": "python",
   "pygments_lexer": "ipython3",
   "version": "3.10.5"
  },
  "orig_nbformat": 4,
  "vscode": {
   "interpreter": {
    "hash": "204a59bdf7ab3655ff6dbdb363532740c60bcf276a7168fbd8477e399c47426b"
   }
  }
 },
 "nbformat": 4,
 "nbformat_minor": 2
}
