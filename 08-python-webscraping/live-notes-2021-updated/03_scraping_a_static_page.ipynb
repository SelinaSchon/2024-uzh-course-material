{
 "cells": [
  {
   "cell_type": "code",
   "execution_count": 1,
   "metadata": {},
   "outputs": [],
   "source": [
    "import requests"
   ]
  },
  {
   "cell_type": "code",
   "execution_count": 2,
   "metadata": {},
   "outputs": [
    {
     "data": {
      "text/plain": [
       "200"
      ]
     },
     "execution_count": 2,
     "metadata": {},
     "output_type": "execute_result"
    }
   ],
   "source": [
    "response = requests.get(\"https://www.unisg.ch/en/universitaet/schools/management/ueber-som/dozierende/ordentliche-professuren\")\n",
    "response.status_code"
   ]
  },
  {
   "cell_type": "code",
   "execution_count": 3,
   "metadata": {},
   "outputs": [
    {
     "data": {
      "text/plain": [
       "b'\\r\\n<!DOCTYPE html>\\r\\n<!--[if IE 8]><html class=\"no-js ie ie-8\" lang=\"en\" prefix=\"og: http://ogp.me/ns#\"><![endif]-->\\r\\n<!--[if IE 9]><html class=\"no-js ie ie-9\" lang=\"en\" prefix=\"og: http://ogp.me/ns#\"><![endif]-->\\r\\n<!--[if gt IE 9]><!--><html class=\"no-js\" lang=\"en\"  prefix=\"og: http://ogp.me/ns#\"><!--<![endif]-->\\r\\n    <head>\\r\\n        \\r\\n\\r\\n<meta charset=\"utf-8\">\\r\\n<meta http-equiv=\"X-UA-Compatible\" content=\"IE=edge\">\\r\\n\\r\\n<meta name=\"viewport\" content=\"width=device-width, initial-scale=1.0, maximum-scale=1.0, user-scalable=no\">\\r\\n\\r\\n<!-- Manifest -->\\r\\n<link rel=\"manifest\" href=\"/manifest.json\">\\r\\n\\r\\n<!-- Fallback to homescreen for Chrome <39 on Android -->\\r\\n<meta name=\"mobile-web-app-capable\" content=\"yes\">\\r\\n<meta name=\"application-name\" content=\"Full professors | University | University of St.Gallen\">\\r\\n\\r\\n<link rel=\"apple-touch-icon\" href=\"/assets/img/icon/apple-touch-icon-precomposed.png\">\\r\\n<link rel=\"apple-touch-icon\" sizes=\"57x57\" href=\"/apple-touch-icon-57x57.png\">\\r\\n<link rel=\"apple-touch-icon\" sizes=\"60x60\" href=\"/apple-touch-icon-60x60.png\">\\r\\n<link rel=\"apple-touch-icon\" sizes=\"72x72\" href=\"/apple-touch-icon-72x72.png\">\\r\\n<link rel=\"apple-touch-icon\" sizes=\"76x76\" href=\"/apple-touch-icon-76x76.png\">\\r\\n<link rel=\"apple-touch-icon\" sizes=\"114x114\" href=\"/apple-touch-icon-114x114.png\">\\r\\n<link rel=\"apple-touch-icon\" sizes=\"120x120\" href=\"/apple-touch-icon-120x120.png\">\\r\\n<link rel=\"apple-touch-icon\" sizes=\"144x144\" href=\"/apple-touch-icon-144x144.png\">\\r\\n<link rel=\"apple-touch-icon\" sizes=\"152x152\" href=\"/apple-touch-icon-152x152.png\">\\r\\n<link rel=\"apple-touch-icon\" sizes=\"180x180\" href=\"/apple-touch-icon-180x180.png\">\\r\\n<link rel=\"icon\" type=\"image/png\" href=\"/favicon-16x16.png\" sizes=\"16x16\">\\r\\n<link rel=\"icon\" type=\"image/png\" href=\"/favicon-32x32.png\" sizes=\"32x32\">\\r\\n<link rel=\"icon\" type=\"image/png\" href=\"/favicon-48x48.png\" sizes=\"48x48\">\\r\\n<link rel=\"icon\" type=\"image/png\" href=\"/favicon-96x96.png\" sizes=\"96x96\">\\r\\n<link rel=\"icon\" type=\"image/png\" href=\"/assets/img/icon/andr'"
      ]
     },
     "execution_count": 3,
     "metadata": {},
     "output_type": "execute_result"
    }
   ],
   "source": [
    "response.content[:2000]"
   ]
  },
  {
   "cell_type": "code",
   "execution_count": 4,
   "metadata": {},
   "outputs": [],
   "source": [
    "# BeautifulSoup4\n",
    "import bs4"
   ]
  },
  {
   "cell_type": "code",
   "execution_count": 5,
   "metadata": {},
   "outputs": [
    {
     "data": {
      "text/plain": [
       "bs4.BeautifulSoup"
      ]
     },
     "execution_count": 5,
     "metadata": {},
     "output_type": "execute_result"
    }
   ],
   "source": [
    "soup = bs4.BeautifulSoup(response.content)\n",
    "type(soup)"
   ]
  },
  {
   "cell_type": "code",
   "execution_count": 6,
   "metadata": {},
   "outputs": [
    {
     "data": {
      "text/plain": [
       "bs4.element.Tag"
      ]
     },
     "execution_count": 6,
     "metadata": {},
     "output_type": "execute_result"
    }
   ],
   "source": [
    "tag = soup.find(\"span\", class_=\"e-person-academic\")\n",
    "type(tag)"
   ]
  },
  {
   "cell_type": "code",
   "execution_count": 7,
   "metadata": {},
   "outputs": [
    {
     "data": {
      "text/plain": [
       "<span class=\"e-person-academic\">Prof. Ph.D.</span>"
      ]
     },
     "execution_count": 7,
     "metadata": {},
     "output_type": "execute_result"
    }
   ],
   "source": [
    "tag"
   ]
  },
  {
   "cell_type": "code",
   "execution_count": 8,
   "metadata": {},
   "outputs": [
    {
     "data": {
      "text/plain": [
       "'Prof. Ph.D.'"
      ]
     },
     "execution_count": 8,
     "metadata": {},
     "output_type": "execute_result"
    }
   ],
   "source": [
    "tag.text"
   ]
  },
  {
   "cell_type": "code",
   "execution_count": 9,
   "metadata": {},
   "outputs": [
    {
     "data": {
      "text/plain": [
       "10"
      ]
     },
     "execution_count": 9,
     "metadata": {},
     "output_type": "execute_result"
    }
   ],
   "source": [
    "person_boxes = soup.find_all(\"div\", class_=\"e-person-content\")\n",
    "len(person_boxes)"
   ]
  },
  {
   "cell_type": "code",
   "execution_count": 10,
   "metadata": {},
   "outputs": [],
   "source": [
    "data = []\n",
    "for box in person_boxes:\n",
    "\n",
    "    name = box.find(\"h3\").text\n",
    "    title = box.find(\"span\", class_=\"e-person-academic\").text\n",
    "    role = box.find(\"div\", class_=\"e-person-role\").text\n",
    "    link = box.find(\"div\", class_=\"e-person-title\").find(\"a\")\n",
    "    \n",
    "    my_dict = {\n",
    "        \"name\": name,\n",
    "        \"title\": title,\n",
    "        \"role\": role.strip(),\n",
    "        \"link\": link[\"href\"]\n",
    "    }\n",
    "    data.append(my_dict)"
   ]
  },
  {
   "cell_type": "code",
   "execution_count": 11,
   "metadata": {},
   "outputs": [
    {
     "data": {
      "text/html": [
       "<div>\n",
       "<style scoped>\n",
       "    .dataframe tbody tr th:only-of-type {\n",
       "        vertical-align: middle;\n",
       "    }\n",
       "\n",
       "    .dataframe tbody tr th {\n",
       "        vertical-align: top;\n",
       "    }\n",
       "\n",
       "    .dataframe thead th {\n",
       "        text-align: right;\n",
       "    }\n",
       "</style>\n",
       "<table border=\"1\" class=\"dataframe\">\n",
       "  <thead>\n",
       "    <tr style=\"text-align: right;\">\n",
       "      <th></th>\n",
       "      <th>name</th>\n",
       "      <th>title</th>\n",
       "      <th>role</th>\n",
       "      <th>link</th>\n",
       "    </tr>\n",
       "  </thead>\n",
       "  <tbody>\n",
       "    <tr>\n",
       "      <th>0</th>\n",
       "      <td>Björn Ambos</td>\n",
       "      <td>Prof. Ph.D.</td>\n",
       "      <td>Full Professor of Strategic Management</td>\n",
       "      <td>https://www.unisg.ch/en/personenverzeichnis/61...</td>\n",
       "    </tr>\n",
       "    <tr>\n",
       "      <th>1</th>\n",
       "      <td>Andrea Back</td>\n",
       "      <td>Prof. Dr.</td>\n",
       "      <td>Full Professor of Management with special focu...</td>\n",
       "      <td>https://www.unisg.ch/en/personenverzeichnis/35...</td>\n",
       "    </tr>\n",
       "    <tr>\n",
       "      <th>2</th>\n",
       "      <td>Christian Belz</td>\n",
       "      <td>Prof. em. Dr.</td>\n",
       "      <td>Full Professor Emeritus of Management with spe...</td>\n",
       "      <td>https://www.unisg.ch/en/personenverzeichnis/59...</td>\n",
       "    </tr>\n",
       "    <tr>\n",
       "      <th>3</th>\n",
       "      <td>Thomas Berndt</td>\n",
       "      <td>Prof. Dr.</td>\n",
       "      <td>Full Professor of Accounting</td>\n",
       "      <td>https://www.unisg.ch/en/personenverzeichnis/ff...</td>\n",
       "    </tr>\n",
       "    <tr>\n",
       "      <th>4</th>\n",
       "      <td>Thomas Bieger</td>\n",
       "      <td>Prof. Dr.</td>\n",
       "      <td>Full Professor of Management with special focu...</td>\n",
       "      <td>https://www.unisg.ch/en/personenverzeichnis/79...</td>\n",
       "    </tr>\n",
       "    <tr>\n",
       "      <th>5</th>\n",
       "      <td>Walter Brenner</td>\n",
       "      <td>Prof. Dr.</td>\n",
       "      <td>Full Professor of Information Management</td>\n",
       "      <td>https://www.unisg.ch/en/personenverzeichnis/d5...</td>\n",
       "    </tr>\n",
       "    <tr>\n",
       "      <th>6</th>\n",
       "      <td>Heike Bruch</td>\n",
       "      <td>Prof. Dr.</td>\n",
       "      <td>Full Professor of Management with special focu...</td>\n",
       "      <td>https://www.unisg.ch/en/personenverzeichnis/8f...</td>\n",
       "    </tr>\n",
       "    <tr>\n",
       "      <th>7</th>\n",
       "      <td>Li Choy Chong</td>\n",
       "      <td>Prof. em. Dr.</td>\n",
       "      <td>Full Professor Emeritus of Management with spe...</td>\n",
       "      <td>https://www.unisg.ch/en/personenverzeichnis/a3...</td>\n",
       "    </tr>\n",
       "    <tr>\n",
       "      <th>8</th>\n",
       "      <td>Bernadette Dilger</td>\n",
       "      <td>Prof. Dr.</td>\n",
       "      <td>Full Professor of Business Education and Educa...</td>\n",
       "      <td>https://www.unisg.ch/en/personenverzeichnis/0b...</td>\n",
       "    </tr>\n",
       "    <tr>\n",
       "      <th>9</th>\n",
       "      <td>Tami Dinh</td>\n",
       "      <td>Prof. Dr.</td>\n",
       "      <td>Full Professor of Accounting</td>\n",
       "      <td>https://www.unisg.ch/en/personenverzeichnis/88...</td>\n",
       "    </tr>\n",
       "  </tbody>\n",
       "</table>\n",
       "</div>"
      ],
      "text/plain": [
       "                name          title  \\\n",
       "0        Björn Ambos    Prof. Ph.D.   \n",
       "1        Andrea Back      Prof. Dr.   \n",
       "2     Christian Belz  Prof. em. Dr.   \n",
       "3      Thomas Berndt      Prof. Dr.   \n",
       "4      Thomas Bieger      Prof. Dr.   \n",
       "5     Walter Brenner      Prof. Dr.   \n",
       "6        Heike Bruch      Prof. Dr.   \n",
       "7      Li Choy Chong  Prof. em. Dr.   \n",
       "8  Bernadette Dilger      Prof. Dr.   \n",
       "9          Tami Dinh      Prof. Dr.   \n",
       "\n",
       "                                                role  \\\n",
       "0             Full Professor of Strategic Management   \n",
       "1  Full Professor of Management with special focu...   \n",
       "2  Full Professor Emeritus of Management with spe...   \n",
       "3                       Full Professor of Accounting   \n",
       "4  Full Professor of Management with special focu...   \n",
       "5           Full Professor of Information Management   \n",
       "6  Full Professor of Management with special focu...   \n",
       "7  Full Professor Emeritus of Management with spe...   \n",
       "8  Full Professor of Business Education and Educa...   \n",
       "9                       Full Professor of Accounting   \n",
       "\n",
       "                                                link  \n",
       "0  https://www.unisg.ch/en/personenverzeichnis/61...  \n",
       "1  https://www.unisg.ch/en/personenverzeichnis/35...  \n",
       "2  https://www.unisg.ch/en/personenverzeichnis/59...  \n",
       "3  https://www.unisg.ch/en/personenverzeichnis/ff...  \n",
       "4  https://www.unisg.ch/en/personenverzeichnis/79...  \n",
       "5  https://www.unisg.ch/en/personenverzeichnis/d5...  \n",
       "6  https://www.unisg.ch/en/personenverzeichnis/8f...  \n",
       "7  https://www.unisg.ch/en/personenverzeichnis/a3...  \n",
       "8  https://www.unisg.ch/en/personenverzeichnis/0b...  \n",
       "9  https://www.unisg.ch/en/personenverzeichnis/88...  "
      ]
     },
     "execution_count": 11,
     "metadata": {},
     "output_type": "execute_result"
    }
   ],
   "source": [
    "import pandas as pd\n",
    "pd.DataFrame(data)"
   ]
  },
  {
   "cell_type": "code",
   "execution_count": 12,
   "metadata": {},
   "outputs": [],
   "source": [
    "def get_people_info(url):\n",
    "    \"\"\"documentation\"\"\"\n",
    "\n",
    "    response = requests.get(url)\n",
    "    response.raise_for_status()\n",
    "\n",
    "    soup = bs4.BeautifulSoup(response.content)\n",
    "    person_boxes = soup.find_all(\"div\", class_=\"e-person-content\")\n",
    "\n",
    "    data = []\n",
    "    for box in person_boxes:\n",
    "\n",
    "        name = box.find(\"h3\").text\n",
    "        title = box.find(\"span\", class_=\"e-person-academic\").text\n",
    "        role = box.find(\"div\", class_=\"e-person-role\").text\n",
    "        link = box.find(\"div\", class_=\"e-person-title\").find(\"a\")\n",
    "\n",
    "        my_dict = {\n",
    "            \"name\": name,\n",
    "            \"title\": title,\n",
    "            \"role\": role.strip(),\n",
    "            \"link\": link[\"href\"]\n",
    "        }\n",
    "        data.append(my_dict)\n",
    "    \n",
    "    return data\n",
    "\n"
   ]
  },
  {
   "cell_type": "code",
   "execution_count": 13,
   "metadata": {},
   "outputs": [],
   "source": [
    "links = [\n",
    "    \"https://www.unisg.ch/en/universitaet/schools/management/ueber-som/dozierende/ordentliche-professuren?current=1\",\n",
    "    \"https://www.unisg.ch/en/universitaet/schools/management/ueber-som/dozierende/ordentliche-professuren?current=2\",\n",
    "    \"https://www.unisg.ch/en/universitaet/schools/management/ueber-som/dozierende/ordentliche-professuren?current=3\"\n",
    "]"
   ]
  },
  {
   "cell_type": "code",
   "execution_count": 14,
   "metadata": {},
   "outputs": [],
   "source": [
    "import time"
   ]
  },
  {
   "cell_type": "code",
   "execution_count": 15,
   "metadata": {},
   "outputs": [],
   "source": [
    "all_data = []\n",
    "for link in links:\n",
    "    data = get_people_info(link)\n",
    "    all_data += data\n",
    "    time.sleep(5)\n",
    "\n",
    "df = pd.DataFrame(all_data)"
   ]
  },
  {
   "cell_type": "code",
   "execution_count": 16,
   "metadata": {},
   "outputs": [
    {
     "data": {
      "text/html": [
       "<div>\n",
       "<style scoped>\n",
       "    .dataframe tbody tr th:only-of-type {\n",
       "        vertical-align: middle;\n",
       "    }\n",
       "\n",
       "    .dataframe tbody tr th {\n",
       "        vertical-align: top;\n",
       "    }\n",
       "\n",
       "    .dataframe thead th {\n",
       "        text-align: right;\n",
       "    }\n",
       "</style>\n",
       "<table border=\"1\" class=\"dataframe\">\n",
       "  <thead>\n",
       "    <tr style=\"text-align: right;\">\n",
       "      <th></th>\n",
       "      <th>name</th>\n",
       "      <th>title</th>\n",
       "      <th>role</th>\n",
       "      <th>link</th>\n",
       "    </tr>\n",
       "  </thead>\n",
       "  <tbody>\n",
       "    <tr>\n",
       "      <th>25</th>\n",
       "      <td>Christoph Lechner</td>\n",
       "      <td>Prof. Dr.</td>\n",
       "      <td>Full Professor of Management with special focu...</td>\n",
       "      <td>https://www.unisg.ch/en/personenverzeichnis/a9...</td>\n",
       "    </tr>\n",
       "    <tr>\n",
       "      <th>26</th>\n",
       "      <td>Peter Leibfried</td>\n",
       "      <td>Prof. Dr.</td>\n",
       "      <td>Full Professor of Auditing and Accounting</td>\n",
       "      <td>https://www.unisg.ch/en/personenverzeichnis/c7...</td>\n",
       "    </tr>\n",
       "    <tr>\n",
       "      <th>27</th>\n",
       "      <td>Jan Marco Leimeister</td>\n",
       "      <td>Prof. Dr.</td>\n",
       "      <td>Full Professor of Information Management</td>\n",
       "      <td>https://www.unisg.ch/en/personenverzeichnis/9e...</td>\n",
       "    </tr>\n",
       "    <tr>\n",
       "      <th>28</th>\n",
       "      <td>Miriam Meckel</td>\n",
       "      <td>Prof. Dr.</td>\n",
       "      <td>Full Professor of Corporate Communication</td>\n",
       "      <td>https://www.unisg.ch/en/personenverzeichnis/60...</td>\n",
       "    </tr>\n",
       "    <tr>\n",
       "      <th>29</th>\n",
       "      <td>Klaus Möller</td>\n",
       "      <td>Prof. Dr.</td>\n",
       "      <td>Full Professor of Performance Management/Contr...</td>\n",
       "      <td>https://www.unisg.ch/en/personenverzeichnis/c8...</td>\n",
       "    </tr>\n",
       "  </tbody>\n",
       "</table>\n",
       "</div>"
      ],
      "text/plain": [
       "                    name      title  \\\n",
       "25     Christoph Lechner  Prof. Dr.   \n",
       "26       Peter Leibfried  Prof. Dr.   \n",
       "27  Jan Marco Leimeister  Prof. Dr.   \n",
       "28         Miriam Meckel  Prof. Dr.   \n",
       "29          Klaus Möller  Prof. Dr.   \n",
       "\n",
       "                                                 role  \\\n",
       "25  Full Professor of Management with special focu...   \n",
       "26          Full Professor of Auditing and Accounting   \n",
       "27           Full Professor of Information Management   \n",
       "28          Full Professor of Corporate Communication   \n",
       "29  Full Professor of Performance Management/Contr...   \n",
       "\n",
       "                                                 link  \n",
       "25  https://www.unisg.ch/en/personenverzeichnis/a9...  \n",
       "26  https://www.unisg.ch/en/personenverzeichnis/c7...  \n",
       "27  https://www.unisg.ch/en/personenverzeichnis/9e...  \n",
       "28  https://www.unisg.ch/en/personenverzeichnis/60...  \n",
       "29  https://www.unisg.ch/en/personenverzeichnis/c8...  "
      ]
     },
     "execution_count": 16,
     "metadata": {},
     "output_type": "execute_result"
    }
   ],
   "source": [
    "df.tail()"
   ]
  }
 ],
 "metadata": {
  "kernelspec": {
   "display_name": "Python 3.10.5 ('pp4rs')",
   "language": "python",
   "name": "python3"
  },
  "language_info": {
   "codemirror_mode": {
    "name": "ipython",
    "version": 3
   },
   "file_extension": ".py",
   "mimetype": "text/x-python",
   "name": "python",
   "nbconvert_exporter": "python",
   "pygments_lexer": "ipython3",
   "version": "3.10.5"
  },
  "orig_nbformat": 4,
  "vscode": {
   "interpreter": {
    "hash": "204a59bdf7ab3655ff6dbdb363532740c60bcf276a7168fbd8477e399c47426b"
   }
  }
 },
 "nbformat": 4,
 "nbformat_minor": 2
}
