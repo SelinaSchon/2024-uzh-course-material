{
 "cells": [
  {
   "cell_type": "markdown",
   "metadata": {},
   "source": [
    "# Application: Stochastic Processes\n",
    "In this notebook we put some of the techniques we just learned to good use. We will:\n",
    "- write a function to simulate ARMA(p,q) processes\n",
    "- write a function to simulate Markov-processes\n",
    "- Introduce the Rouwenhorst method to approximate an AR(1) process using a Markov process on a finite grid.\n",
    "\n",
    "Additionally, we write our own class `markov` with simulation and calibration methods."
   ]
  },
  {
   "cell_type": "markdown",
   "metadata": {},
   "source": [
    "## ARMA(p,q)\n",
    "\n",
    "Recall the definition of an ARMA(p,q) process as \n",
    "$$ y_t = \\alpha_0 + \\sum_{j = 1}^p \\alpha_j L^j y_t + \\sum_{j = 1}^q \\beta_j L^j \\varepsilon_t + \\varepsilon_t$$\n",
    "where $L$ is the lag-operator and $\\varepsilon_t\\sim_{i.i.d.} \\Phi(\\sigma, 0)$ (we assume a normal distribution on the errors).\n",
    "\n",
    "Let's write a function which takes in a dictionary holding $\\alpha_0, \\underline{\\alpha}, \\underline{\\beta}$ and $\\sigma$ to simulate the corresponding ARMA process."
   ]
  },
  {
   "cell_type": "code",
   "execution_count": null,
   "metadata": {},
   "outputs": [],
   "source": [
    "import numpy as np\n",
    "from numba import prange, jit"
   ]
  },
  {
   "cell_type": "code",
   "execution_count": null,
   "metadata": {},
   "outputs": [],
   "source": [
    "arma_dict = {\n",
    "    'alpha_0': 0,\n",
    "    'alpha': np.array([0.2, 0.4, 0.1]),\n",
    "    'beta': np.array([0.1]),\n",
    "    'sigma': 1\n",
    "}\n",
    "\n",
    "T = 1000\n",
    "\n",
    "def sim_arma(arma_dict, T):\n",
    "    p = len(arma_dict['alpha'])\n",
    "    q = len(arma_dict['beta'])\n",
    "    alpha = arma_dict['alpha']\n",
    "    beta = arma_dict['beta']\n",
    "\n",
    "    y = np.empty(1000+T) # 1000 burn-in draws\n",
    "    eps = np.random.normal(0, arma_dict['sigma'], T+1000)\n",
    "    y[0:max(p,q)] = eps[0:max(p,q)]  \n",
    "    for i in np.arange(max(p,q)+1, T+1000):\n",
    "        y[i] = np.vdot(y[i-(p+1):(i-1)], alpha) + np.vdot(eps[i-(q+1):(i-1)], beta)\n",
    "\n",
    "    return y[-T:]\n"
   ]
  },
  {
   "cell_type": "code",
   "execution_count": null,
   "metadata": {},
   "outputs": [],
   "source": [
    "arma_ts = sim_arma(arma_dict, 10_000)"
   ]
  },
  {
   "cell_type": "markdown",
   "metadata": {},
   "source": [
    "Let's write a function to plot the time series."
   ]
  },
  {
   "cell_type": "code",
   "execution_count": null,
   "metadata": {},
   "outputs": [],
   "source": [
    "import matplotlib.pyplot as plt\n",
    "\n",
    "def plot_time_series(time_series, arma_dict, xlabel='Time', ylabel='Value'):\n",
    "    \"\"\"\n",
    "    Plots the given time series.\n",
    "\n",
    "    Parameters:\n",
    "    time_series (array-like): The time series data to plot.\n",
    "    title (str): The title of the plot.\n",
    "    xlabel (str): The label for the x-axis.\n",
    "    ylabel (str): The label for the y-axis.\n",
    "    \"\"\"\n",
    "    title='Time Series ARMA(' + str(len(arma_dict['alpha'])) + \", \" + str(len(arma_dict['beta'])) + \")\"\n",
    "\n",
    "    plt.figure(figsize=(10, 6))\n",
    "    plt.plot(time_series, color='blue', linestyle='-', linewidth=1.)\n",
    "    plt.title(title)\n",
    "    plt.xlabel(xlabel)\n",
    "    plt.ylabel(ylabel)\n",
    "    plt.grid(True)\n",
    "    plt.show()\n",
    "\n"
   ]
  },
  {
   "cell_type": "code",
   "execution_count": null,
   "metadata": {},
   "outputs": [],
   "source": [
    "# Plot the time series\n",
    "plot_time_series(arma_ts, arma_dict)"
   ]
  },
  {
   "cell_type": "markdown",
   "metadata": {},
   "source": [
    "Recall now that a given $ARMA(p,q)$ is stationary if and only if all roots of the characteristic polynomial on the AR-part, \n",
    "$$ 1 - L^1 \\alpha_1 - ... - L^q \\alpha_q $$\n",
    "are outside the (complex) unit circle. We write a function to check this. To do so, we use `roots(p)`, which return the roots of a polynomial with coefficients given in `p`."
   ]
  },
  {
   "cell_type": "code",
   "execution_count": null,
   "metadata": {},
   "outputs": [],
   "source": [
    "def is_stable(alpha):\n",
    "    coefs = np.concatenate([[1], -alpha])[::-1] # [::-1] reverses an array\n",
    "    print(\"The lag polynomial to check is:\")\n",
    "    print(\"1 -\", \" - \".join([f\"{a}*L^{i}\" for i, a in enumerate(alpha)]))\n",
    "    print(\"The roots are:\")\n",
    "    roots = np.roots(coefs)\n",
    "    for root in roots:\n",
    "        print(f\" {root:.2f}\")\n",
    "\n",
    "    # Check if all roots have modulus > 1\n",
    "    are_roots_outside_unit_circle = all(np.abs(roots) > 1)\n",
    "    if are_roots_outside_unit_circle : \n",
    "        print(\"\\nThe process is stable.\")\n",
    "    else :\n",
    "        print(\"\\nThe process is unstable.\")\n",
    "    return are_roots_outside_unit_circle"
   ]
  },
  {
   "cell_type": "markdown",
   "metadata": {},
   "source": [
    "Let's try it!"
   ]
  },
  {
   "cell_type": "code",
   "execution_count": null,
   "metadata": {},
   "outputs": [],
   "source": [
    "is_stable(arma_dict['alpha'])"
   ]
  },
  {
   "cell_type": "markdown",
   "metadata": {},
   "source": [
    "### A Taster of OOP\n",
    "\n",
    "In Python, **classes** are a fundamental building block of object-oriented programming (OOP). A class is a blueprint for creating **objects** (instances), which can have **attributes** (variables) and **methods** (functions) associated with them.\n",
    "\n",
    "**Basic Structure of a Class**\n",
    "\n",
    "Here’s a simple example to demonstrate the structure of a class in Python:"
   ]
  },
  {
   "cell_type": "code",
   "execution_count": null,
   "metadata": {},
   "outputs": [],
   "source": [
    "class Dog:\n",
    "    # Class attribute (shared by all instances)\n",
    "    species = \"Canis familiaris\"\n",
    "\n",
    "    # The initializer method (also called the constructor)\n",
    "    def __init__(self, name, age):\n",
    "        # Instance attributes\n",
    "        self.name = name\n",
    "        self.age = age\n",
    "\n",
    "    # Instance method\n",
    "    def bark(self):\n",
    "        return f\"{self.name} says woof!\"\n",
    "\n",
    "    # Another instance method\n",
    "    def get_human_years(self):\n",
    "        return self.age * 7\n",
    "\n",
    "# Creating instances (objects) of the class\n",
    "dog1 = Dog(\"Buddy\", 5)\n",
    "dog2 = Dog(\"Lucy\", 3)\n",
    "\n",
    "# Accessing attributes and methods\n",
    "print(dog1.name)  # Output: Buddy\n",
    "print(dog1.bark())  # Output: Buddy says woof!\n",
    "print(dog2.get_human_years())  # Output: 21\n"
   ]
  },
  {
   "cell_type": "markdown",
   "metadata": {},
   "source": [
    "\n",
    "**Key Concepts:**\n",
    "\n",
    "1. **Class Definition:**\n",
    "   - A class is defined using the `class` keyword followed by the class name and a colon.\n",
    "   - By convention, class names are written in CamelCase (e.g., `Dog`).\n",
    "\n",
    "2. **Attributes:**\n",
    "   - **Class Attributes:** These are shared across all instances of the class. In the example, `species` is a class attribute.\n",
    "   - **Instance Attributes:** These are specific to each instance of the class. They are defined inside the `__init__` method (constructor). In the example, `name` and `age` are instance attributes.\n",
    "\n",
    "3. **Methods:**\n",
    "   - Methods are functions defined within a class that operate on instances of the class.\n",
    "   - **Instance Methods:** These take `self` as the first parameter, which refers to the instance calling the method. For example, `bark` and `get_human_years` are instance methods in the `Dog` class.\n",
    "   - The `__init__` method is a special method called automatically when a new instance of the class is created. It is used to initialize the instance's attributes.\n",
    "\n",
    "4. **Creating Objects:**\n",
    "   - Objects (instances) are created by calling the class as if it were a function, passing any arguments required by the `__init__` method.\n",
    "   - For example, `dog1 = Dog(\"Buddy\", 5)` creates an instance of the `Dog` class with `name` as `\"Buddy\"` and `age` as `5`.\n",
    "\n",
    "5. **Accessing Attributes and Methods:**\n",
    "   - Instance attributes and methods are accessed using dot notation (e.g., `dog1.name`, `dog1.bark()`).\n",
    "   - Class attributes can be accessed directly via the class name or through any instance (e.g., `Dog.species` or `dog1.species`).\n"
   ]
  },
  {
   "cell_type": "markdown",
   "metadata": {},
   "source": [
    "After we got the basic stuff out of the way, let's write a class for $ARMA(p, q)$ processes. We call the class `arma` and have the following desiderata:\n",
    "\n",
    "- The class is initialized with the four inputs making up `arma_dict`\n",
    "- It has a method allowing to simulate a the process with the process parameters\n",
    "- we can update the process parameters whenever we like\n",
    "- we can check whether the ARMA process is stable.\n",
    "\n",
    "Let's get to it."
   ]
  },
  {
   "cell_type": "code",
   "execution_count": null,
   "metadata": {},
   "outputs": [],
   "source": [
    "class ARMA:\n",
    "\n",
    "    def __init__(self, alpha_0, alpha, beta, sigma):\n",
    "        self.alpha_0 = alpha_0\n",
    "        self.alpha = alpha\n",
    "        self.beta = beta\n",
    "        self.sigma = sigma\n",
    "        self.arma_dict = {\n",
    "            'alpha_0': self.alpha_0,\n",
    "            'alpha': self.alpha,\n",
    "            'beta': self.beta,\n",
    "            'sigma': self.sigma\n",
    "        }\n",
    "\n",
    "    # Methods to update the parameters help in this class\n",
    "    def set_alpha_0(self, alpha_0):\n",
    "        self.alpha_0 = alpha_0\n",
    "        self.arma_dict['alpha_0'] = alpha_0\n",
    "\n",
    "    def set_alpha(self, alpha):\n",
    "        self.alpha = alpha\n",
    "        self.arma_dict['alpha'] = alpha\n",
    "\n",
    "    def set_beta(self, beta):\n",
    "        self.beta = beta\n",
    "        self.arma_dict['beta'] = beta\n",
    "\n",
    "    def set_sigma(self, sigma):\n",
    "        self.sigma = sigma\n",
    "        self.arma_dict['sigma'] = sigma\n",
    "\n",
    "    # the simulation method\n",
    "    def sim_arma(self, T):\n",
    "        p = len(self.alpha)\n",
    "        q = len(self.beta)\n",
    "        alpha = self.alpha\n",
    "        beta = self.beta\n",
    "\n",
    "        y = np.empty(1000+T) # 1000 burn-in draws\n",
    "        eps = np.random.normal(0, arma_dict['sigma'], T+1000)\n",
    "        y[0:max(p,q)] = eps[0:max(p,q)]  \n",
    "        for i in np.arange(max(p,q)+1, T+1000):\n",
    "            y[i] = np.vdot(y[i-(p+1):(i-1)], alpha) + np.vdot(eps[i-(q+1):(i-1)], beta)\n",
    "\n",
    "        return y[-T:]\n",
    "\n",
    "    # checking for stability\n",
    "    def is_stable(self):\n",
    "        print(self.alpha)\n",
    "        coefs = np.concatenate([[1], - self.alpha])[::-1] # [::-1] reverses an array\n",
    "        print(\"-\"*70)\n",
    "        print(\"The lag polynomial to check is:\")\n",
    "        print(\"1 -\", \" - \".join([f\"{a}*L^{i+1}\" for i, a in enumerate(self.alpha)]))\n",
    "        print(\"\\nThe roots are:\")\n",
    "        roots = np.roots(coefs)\n",
    "        for root in roots:\n",
    "            print(f\" {root:.2f}\")\n",
    "\n",
    "        # Check if all roots have modulus > 1\n",
    "        are_roots_outside_unit_circle = all(np.abs(roots) > 1)\n",
    "        if are_roots_outside_unit_circle : \n",
    "            print(\"\\nThe process is stable.\")\n",
    "        else :\n",
    "            print(\"\\nThe process is unstable.\")\n",
    "        print(\"-\"*70)\n",
    "        return are_roots_outside_unit_circle"
   ]
  },
  {
   "cell_type": "code",
   "execution_count": null,
   "metadata": {},
   "outputs": [],
   "source": [
    "# initialize myarma object\n",
    "myarma = ARMA(0, np.array([0.3,0.3]), np.array([0.3]), 1)\n",
    "# run and plot a little simulation\n",
    "plot_time_series(myarma.sim_arma(1000), myarma.arma_dict)\n",
    "myarma.is_stable()\n",
    "\n",
    "# change the coefficient vector on AR-part \n",
    "myarma.set_alpha(np.array([3, 1]))\n",
    "myarma.is_stable()\n"
   ]
  },
  {
   "cell_type": "markdown",
   "metadata": {},
   "source": [
    "## Markov Processes"
   ]
  },
  {
   "cell_type": "markdown",
   "metadata": {},
   "source": [
    "### Introduction to Discrete Markov Processes\n",
    "\n",
    "A **Discrete Markov Process** (or **Markov Chain**) is a mathematical model describing a system that transitions between a finite or countable number of states in discrete time steps. The key feature of a Markov process is the **Markov Property**, which states that the future state depends only on the current state and not on the sequence of events that preceded it.\n",
    "\n",
    "#### Key Definitions:\n",
    "\n",
    "- **State Space ($S$)**: The set of all possible states the system can be in. It can be finite or countably infinite.\n",
    "\n",
    "- **Time Parameter**: Discrete, often represented as $t = 0, 1, 2, \\ldots$.\n",
    "\n",
    "- **Transition Probability**:\n",
    "  - Denoted as $P_{ij}$, it represents the probability of transitioning from state $i$ to state $j$ in one time step.\n",
    "  - Mathematically: $P_{ij} = P(X_{t+1} = j \\mid X_t = i)$, where $X_t$ is the state at time $t$.\n",
    "  - Collect these in a matrix, $\\Pi$\n",
    "  - The sum of probabilities in each row equals 1: $\\sum_{j} P_{ij} = 1$ for all $i$.\n",
    "\n",
    "- **Initial Distribution ($\\pi^{(0)}$)**:\n",
    "  - A probability distribution over the state space at time $t = 0$.\n",
    "\n",
    "- **n-Step Transition Probability**:\n",
    "  - The probability of transitioning from state $i$ to state $j$ in $n$ steps, denoted as $P_{ij}^{(n)}$.\n",
    "  - Calculated by raising the transition matrix to the $n^{th}$ power: $(P^{(n)})' = (P')^n$.\n",
    "\n",
    "- **Stationary Distribution ($\\pi$)**:\n",
    "  - A probability distribution over states that remains unchanged as the process evolves.\n",
    "  - Satisfies $\\pi = \\pi P$.\n",
    "  - Represents the long-term behavior of the Markov process if it exists and is unique.\n",
    "\n",
    "Given a distribution $\\pi_t$, the next period distribution will be $\\pi_{t+1} = \\Pi' \\pi_t$"
   ]
  },
  {
   "cell_type": "code",
   "execution_count": null,
   "metadata": {},
   "outputs": [],
   "source": [
    "# transition matrix\n",
    "Pi = np.array([\n",
    "    [0.2, 0.4, 0.4],\n",
    "    [0.1, 0.5, 0.4],\n",
    "    [0.8, 0.1, 0.1]\n",
    "])\n",
    "\n",
    "# current distribution\n",
    "pi = np.array([0.5, 0.5, 0])\n",
    "\n",
    "# next period distribution\n",
    "pi @ Pi"
   ]
  },
  {
   "cell_type": "markdown",
   "metadata": {},
   "source": [
    "**Exercise:** Write a function that checks whether a given matrix is a Markov matrix.\n",
    "\n",
    "Then, write a function which takes a Markov transition matrix and calculates the stationary distribution. (Hint: $\\Pi^N$ converges to a matrix which contains the stationary distribution(s) in its rows.) "
   ]
  },
  {
   "cell_type": "code",
   "execution_count": null,
   "metadata": {},
   "outputs": [],
   "source": [
    "# TBD\n",
    "\n",
    "M = Pi\n",
    "for i in range(50):\n",
    "    M = Pi @ M\n",
    "M"
   ]
  },
  {
   "cell_type": "markdown",
   "metadata": {},
   "source": [
    "## Rouwenhorst Method to Approximate an AR(1) Process with a Markov Chain\n",
    "\n",
    "### Advantages of the Rouwenhorst Method:\n",
    "\n",
    "- **Flexibility:** The Rouwenhorst method is particularly useful for approximating AR(1) processes with high persistence (i.e., when $ \\rho $ is close to 1) because it can accommodate the high persistence and the correct distribution properties of the AR(1) process.\n",
    "- **Accuracy:** It provides a good approximation with relatively few states (even with a small $ n $), making it computationally efficient."
   ]
  },
  {
   "cell_type": "markdown",
   "metadata": {},
   "source": [
    "---\n",
    "\n",
    "For an arbitrary Markov process mapping to income states and corresponding income levels $ y $, consider the simplest case:\n",
    "\n",
    "$$\n",
    "\\begin{align*}\n",
    "\\log y_t &= \\rho \\log y_{t-1} + \\epsilon_t, \\quad \\epsilon_t \\sim N(0, \\alpha^2), \\\\\n",
    "\\alpha^2 &= \\mathrm{Var}(\\log y_t) (1 - \\rho^2).\n",
    "\\end{align*}\n",
    "$$\n",
    "\n",
    "- Note that $\\mathrm{Var}(\\log y_t)$ is the long-run variance as well as the cross sectional variance, which is typically directly estimated. So is $\\rho$, and we infer $\\alpha$.  \n",
    "\n",
    "- Our goal is to approximate this continuous AR(1) process with $ n $ discrete states using the **Rouwenhorst Method**. This method helps us construct a Markov transition matrix $\\Pi$ that closely matches the properties of the AR(1) process.\n",
    "\n",
    "- To approximate the AR(1) process, we represent it with $ n $ discrete states. Each state is a sum $ e_t \\in \\{0,1,..., n-1\\} $ of $ n-1 $ underlying hidden binary state variables. Each binary state has a probability $ p $ of staying at its current value and a probability $ 1-p $ of switching to a different value.\n",
    "\n",
    "- The parameter $ p $ is set to match the persistence of the AR(1) process, where $ p = \\frac{1+\\rho}{2} $. The standard deviation of the underlying state $ e_t $ is given by $ \\frac{\\sqrt{n-1}}{2} $. To match the cross-sectional standard deviation of log income, we scale (the grid of) $ e_t $ by $ \\frac{\\alpha}{\\sqrt{1 - \\rho^2}} \\frac{2}{\\sqrt{n-1}} = \\sigma_y \\frac{2}{\\sqrt{n-1}}  $.\n",
    "\n",
    "- Finally, the goal is to find the discretized income process corresponding to these states.\n",
    "\n",
    "The Markov transition matrix $\\Pi^n$ for the states $ e $ follows the recursion:\n",
    "\n",
    "$$\n",
    "\\tilde{\\Pi}^{n} = p \\begin{bmatrix} \\Pi^{n-1} & \\mathbf{0} \\\\ \\mathbf{0}' & 0 \\end{bmatrix} \n",
    "+ (1-p) \\begin{bmatrix} \\mathbf{0} & \\Pi^{n-1} \\\\ 0 & \\mathbf{0} \\end{bmatrix} \n",
    "+ (1-p) \\begin{bmatrix} \\mathbf{0}' & 0 \\\\ \\Pi^{n-1} & \\mathbf{0} \\end{bmatrix} \n",
    "+ p \\begin{bmatrix} 0 & \\mathbf{0}' \\\\ \\mathbf{0} & \\Pi^{n-1} \\end{bmatrix} \n",
    "\\tag{6}\n",
    "$$\n",
    "\n",
    "The final transition matrix $\\Pi^n$ is equal to $\\tilde{\\Pi}^{n}$ for the first and last rows, and $\\tilde{\\Pi}^{n}/2$ for all other rows. The base case for the recursion is:\n",
    "\n",
    "$$\n",
    "\\Pi^{2} = \\begin{bmatrix} p & 1-p \\\\ 1-p & p \\end{bmatrix}\n",
    "$$\n",
    "\n",
    "This procedure can be implemented in a function ```rouwenhorst(n, rho, sd_log_y)``` which returns a transition matrix and a grid for $\\log y$.\n",
    "\n",
    "Let's get to it:"
   ]
  },
  {
   "cell_type": "code",
   "execution_count": null,
   "metadata": {},
   "outputs": [],
   "source": [
    "# sigma is the sd of the error, e_t\n",
    "@jit(nopython=T)\n",
    "def rouwenhorst(n, rho, sd_log_y):\n",
    "    \n",
    "    # the grid    \n",
    "    e = np.arange(n) # sd of e on this grid with Pi is sqrt(n-1)/2\n",
    "    e = e / ( (n-1)**0.5 /2 ) # now its unit sd\n",
    "    e = e * sd_log_y # now it's the sd of the cross section of log_y\n",
    "\n",
    "    # the transition matrix\n",
    "    p = (1+rho)/2\n",
    "    Pi = np.array([[p, 1-p], [1-p, p]])\n",
    "    \n",
    "    while Pi.shape[0] < n:\n",
    "        Pi_next = np.zeros((1+Pi.shape[0], 1+Pi.shape[1]))\n",
    "        Pi_next[0:Pi.shape[0], 0:Pi.shape[1]] += Pi * p\n",
    "        Pi_next[0:Pi.shape[0], -Pi.shape[1]:] += Pi * (1-p)\n",
    "        Pi_next[-Pi.shape[0]:, -Pi.shape[1]:] += Pi * p\n",
    "        Pi_next[-Pi.shape[0]:, 0:Pi.shape[1]] += Pi * (1-p)\n",
    "        Pi_next[1:-1, :] /= 2\n",
    "        Pi = Pi_next\n",
    "\n",
    "    return Pi, e\n",
    "\n",
    "@jit(nopython=True)\n",
    "def stationary_dist(Pi):\n",
    "    Pi_stationary = Pi.copy()\n",
    "    eps = 1\n",
    "    while eps > 10E-12:\n",
    "        Pi_old = Pi_stationary.copy()\n",
    "        Pi_stationary = Pi_stationary @ Pi_stationary\n",
    "        eps = np.max(np.abs(Pi_stationary - Pi_old))\n",
    "\n",
    "    if np.max(\n",
    "            np.abs( \n",
    "                np.sum(Pi_stationary - Pi_stationary,axis = 0) / Pi_stationary.shape[0]\n",
    "            )\n",
    "        ) < 10E-10: # the ugly sum.../ .shape construction is because numpy cant handle np.mean with axis args\n",
    "        print(\"the steady state is unique.\")\n",
    "\n",
    "    return Pi_stationary\n",
    "\n",
    "def normalize_log_y(log_y, pi_ss): # make log_y have unit mean\n",
    "    log_y_norm = log_y / np.vdot(log_y, pi_ss)\n",
    "    return log_y_norm"
   ]
  },
  {
   "cell_type": "code",
   "execution_count": null,
   "metadata": {},
   "outputs": [],
   "source": [
    "# lets test our code\n",
    "Pi, log_y = rouwenhorst(20, 0.975, 0.7)\n",
    "pi_ss = stationary_dist(Pi)[0,:]\n",
    "y_grid = np.exp(normalize_log_y(log_y, pi_ss))\n",
    "\n",
    "# plot income and probability distribution\n",
    "plt.figure(figsize=(10, 6))\n",
    "plt.plot(y_grid, pi_ss, marker='o', linestyle='-', color='b', markersize=5, linewidth=1)\n",
    "plt.title('Steady State Income Distribution', fontsize=16)\n",
    "plt.xlabel('Income', fontsize=14)\n",
    "plt.ylabel('Probability', fontsize=14)\n",
    "plt.grid(True, which='both', linestyle='--', linewidth=0.5)\n",
    "plt.axhline(0, color='black',linewidth=0.5)\n",
    "plt.axvline(0, color='black',linewidth=0.5)\n",
    "plt.tight_layout()\n",
    "plt.show()\n"
   ]
  },
  {
   "cell_type": "markdown",
   "metadata": {},
   "source": [
    "Finally, we can put these functions together to write a \"rouwenhorst\" module."
   ]
  },
  {
   "cell_type": "markdown",
   "metadata": {},
   "source": []
  }
 ],
 "metadata": {
  "kernelspec": {
   "display_name": "pp4rs",
   "language": "python",
   "name": "python3"
  },
  "language_info": {
   "codemirror_mode": {
    "name": "ipython",
    "version": 3
   },
   "file_extension": ".py",
   "mimetype": "text/x-python",
   "name": "python",
   "nbconvert_exporter": "python",
   "pygments_lexer": "ipython3",
   "version": "3.10.11"
  }
 },
 "nbformat": 4,
 "nbformat_minor": 2
}
